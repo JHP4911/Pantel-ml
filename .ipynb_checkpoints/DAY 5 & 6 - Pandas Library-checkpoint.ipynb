{
 "cells": [
  {
   "cell_type": "markdown",
   "id": "motivated-calculator",
   "metadata": {},
   "source": [
    "# Python - Pandas\n",
    "\n",
    "- Pandas is an open source python library.\n",
    "- It provides highly efficient data structures and data analysis tools for python programming language.\n",
    "- Python with pandas is used in a variety of domains like academics, finance, economics, statistics\n",
    "- It deals with the following three data structures\n",
    "    1. Series\n",
    "    2. Data frame\n",
    "    3. Panel\n",
    "- These data structures are built on top of numpy array, thus making them fast and efficient."
   ]
  },
  {
   "cell_type": "markdown",
   "id": "devoted-finder",
   "metadata": {},
   "source": [
    "# Dimension and Description\n",
    "\n",
    "- Higher dimensional data structure is a container of lower dimensional data structure.\n",
    "- Data frame is a container of series and panel is a container of data frame\n",
    "- Series is a one-dimensional collection of similar elements. Series is nothing but a collection of integers.\n",
    "- Points to Consider\n",
    "    1. Collection of similar elements.\n",
    "    2. Size cannot be changed(i.e, it is immutable)\n",
    "    3. Values of the data can be changed(i.e, it is mutable)"
   ]
  },
  {
   "cell_type": "markdown",
   "id": "dedicated-dividend",
   "metadata": {},
   "source": [
    "### Examples "
   ]
  },
  {
   "cell_type": "code",
   "execution_count": 1,
   "id": "further-montreal",
   "metadata": {},
   "outputs": [
    {
     "name": "stdout",
     "output_type": "stream",
     "text": [
      "Series([], dtype: float64)\n"
     ]
    },
    {
     "name": "stderr",
     "output_type": "stream",
     "text": [
      "C:\\Users\\Aditi Patil\\anaconda3\\lib\\site-packages\\ipykernel_launcher.py:3: DeprecationWarning: The default dtype for empty Series will be 'object' instead of 'float64' in a future version. Specify a dtype explicitly to silence this warning.\n",
      "  This is separate from the ipykernel package so we can avoid doing imports until\n"
     ]
    }
   ],
   "source": [
    "# import the pandas library and aliasing as pd\n",
    "import pandas as pd\n",
    "s = pd.Series()\n",
    "print(s)"
   ]
  },
  {
   "cell_type": "code",
   "execution_count": 2,
   "id": "harmful-initial",
   "metadata": {},
   "outputs": [
    {
     "name": "stdout",
     "output_type": "stream",
     "text": [
      "0    a\n",
      "1    b\n",
      "2    c\n",
      "3    d\n",
      "dtype: object\n"
     ]
    }
   ],
   "source": [
    "# import the pandas library and aliasing as pd\n",
    "import pandas as pd\n",
    "import numpy as np\n",
    "data = np.array(['a','b','c','d'])\n",
    "s = pd.Series(data)\n",
    "print(s)"
   ]
  },
  {
   "cell_type": "code",
   "execution_count": 3,
   "id": "featured-permit",
   "metadata": {},
   "outputs": [
    {
     "name": "stdout",
     "output_type": "stream",
     "text": [
      "10    a\n",
      "11    b\n",
      "12    c\n",
      "13    d\n",
      "dtype: object\n"
     ]
    }
   ],
   "source": [
    "# import the pandas library and aliasing as pd\n",
    "import pandas as pd\n",
    "import numpy as np\n",
    "data = np.array(['a','b','c','d'])\n",
    "s = pd.Series(data, index=[10,11,12,13])\n",
    "print(s)"
   ]
  },
  {
   "cell_type": "markdown",
   "id": "recorded-forty",
   "metadata": {},
   "source": [
    "# Create a series from dictionary\n",
    "\n",
    "- A dictionary can be passed as an input.\n",
    "- If no index is specified, then dictionary keys are taken in a sorted order to create an index.\n",
    "- If index is passed, then values in the data corresponding to the labels in the index will be pulled out.\n",
    "\n",
    "### Examples"
   ]
  },
  {
   "cell_type": "code",
   "execution_count": 10,
   "id": "lyric-sucking",
   "metadata": {},
   "outputs": [
    {
     "name": "stdout",
     "output_type": "stream",
     "text": [
      "a    0.0\n",
      "b    1.0\n",
      "c    2.0\n",
      "d    3.0\n",
      "dtype: float64\n",
      "c    2.0\n",
      "a    0.0\n",
      "d    3.0\n",
      "b    1.0\n",
      "dtype: float64\n"
     ]
    }
   ],
   "source": [
    "# import the pandas library and aliasing as pd\n",
    "import pandas as pd\n",
    "import numpy as np\n",
    "data = {'a':0.,'b':1.,'c':2,'d':3.}\n",
    "s = pd.Series(data)\n",
    "print(s)\n",
    "\n",
    "s1 = pd.Series(data, index=['c','a','d','b'])\n",
    "print(s1)"
   ]
  },
  {
   "cell_type": "markdown",
   "id": "accompanied-thing",
   "metadata": {},
   "source": [
    "# Create a series from a Scalar\n",
    "\n",
    "- If the data is a scalar value, then an index must be provided.\n",
    "- Value will be repeated to match the length of the index."
   ]
  },
  {
   "cell_type": "code",
   "execution_count": 1,
   "id": "disturbed-morocco",
   "metadata": {},
   "outputs": [
    {
     "name": "stdout",
     "output_type": "stream",
     "text": [
      "0    5\n",
      "1    5\n",
      "2    5\n",
      "3    5\n",
      "dtype: int64\n"
     ]
    }
   ],
   "source": [
    "# import the pandas library and aliasing as pd\n",
    "import pandas as pd\n",
    "import numpy as np\n",
    "s = pd.Series(5, index=[0,1,2,3])\n",
    "print(s)"
   ]
  },
  {
   "cell_type": "markdown",
   "id": "prerequisite-dryer",
   "metadata": {},
   "source": [
    "# Accessing data from series with position\n",
    "\n",
    "- Data in a series can be accessed similar to that in an n dimensional array.\n",
    "- Example: Retrieve the first element\n",
    "- Counting starts from 0 in the array.\n",
    "- It means that the first element is stored at the 0th position and so on."
   ]
  },
  {
   "cell_type": "code",
   "execution_count": 7,
   "id": "wrapped-requirement",
   "metadata": {},
   "outputs": [
    {
     "name": "stdout",
     "output_type": "stream",
     "text": [
      "1\n"
     ]
    }
   ],
   "source": [
    "# import the pandas library and aliasing as pd\n",
    "import pandas as pd\n",
    "import numpy as np\n",
    "s = pd.Series([1,2,3,4,5], index=['a','b','c','d','e']) \n",
    "print(s[0])  # retrieve the first element"
   ]
  },
  {
   "cell_type": "code",
   "execution_count": 8,
   "id": "injured-prospect",
   "metadata": {},
   "outputs": [
    {
     "name": "stdout",
     "output_type": "stream",
     "text": [
      "a    1\n",
      "b    2\n",
      "c    3\n",
      "dtype: int64\n"
     ]
    }
   ],
   "source": [
    "print(s[:3]) # retrieve the first three element"
   ]
  },
  {
   "cell_type": "code",
   "execution_count": 9,
   "id": "asian-syndication",
   "metadata": {},
   "outputs": [
    {
     "name": "stdout",
     "output_type": "stream",
     "text": [
      "c    3\n",
      "d    4\n",
      "e    5\n",
      "dtype: int64\n"
     ]
    }
   ],
   "source": [
    "print(s[-3:]) # retrieve the last three element"
   ]
  },
  {
   "cell_type": "markdown",
   "id": "early-battlefield",
   "metadata": {},
   "source": [
    "# Retrieve the data using label(Index)\n",
    "\n",
    "- A series is like a fixed-size dict.\n",
    "- In a dictionary, we can get and set values by index label.\n",
    "- Example: Retrieve a single element using index label value.\n",
    "- Retrieve multiple elements using a list of label index values."
   ]
  },
  {
   "cell_type": "code",
   "execution_count": 10,
   "id": "assured-tooth",
   "metadata": {},
   "outputs": [
    {
     "name": "stdout",
     "output_type": "stream",
     "text": [
      "1\n"
     ]
    }
   ],
   "source": [
    "print(s['a']) # retrieve a single element"
   ]
  },
  {
   "cell_type": "code",
   "execution_count": 12,
   "id": "critical-infection",
   "metadata": {},
   "outputs": [
    {
     "name": "stdout",
     "output_type": "stream",
     "text": [
      "a    1\n",
      "b    2\n",
      "c    3\n",
      "d    4\n",
      "dtype: int64\n"
     ]
    }
   ],
   "source": [
    "print(s[['a','b','c','d']]) # retrieve multiple elements"
   ]
  },
  {
   "cell_type": "markdown",
   "id": "dress-flooring",
   "metadata": {},
   "source": [
    "# Data Frame\n",
    "\n",
    "- It is 2 dimensional array with different data elements(i.e, it is a heterogeneous collection of data elements)\n",
    "- Data is stored in tabular format in the form of rows and columns.\n",
    "- for eg. consider the following dataframe\n",
    "\n",
    "####   Name     Dept    Sem    Percentage\n",
    "1.  Sam       ECE    I     78\n",
    "2.  Geetha    CSE    II    85\n",
    "3.  Kala      ECE    III   75\n",
    "4.  Mala      CSE    IV    70"
   ]
  },
  {
   "cell_type": "markdown",
   "id": "cooperative-resolution",
   "metadata": {},
   "source": [
    "# Features of Dataframe\n",
    "\n",
    "- Columns are of different types.\n",
    "- The size of the dataframe can be changed(i.e size - mutable)\n",
    "- Labeled axes(rows and columns)\n",
    "- Various arithmetic operations can be performed on rows and columns.\n",
    "\n",
    "### Pandas.DataFrame\n",
    "- A pandas dataframe can be created using the following constructor.\n",
    "- pandas.DataFrame(data,index,columns,dtype,copy)\n",
    "\n",
    "### DataFrame Creation\n",
    "- A pandas dataframe can be created by using various inputs like\n",
    "    1. Lists\n",
    "    2. Dict\n",
    "    3. Series\n",
    "    4. Numpy arrays\n",
    "    5. Another DataFrame\n",
    "\n",
    "### Data types of columns\n",
    "- Name - String\n",
    "- Dept - String\n",
    "- Semester - String\n",
    "- Percentage - Integer\n",
    "\n",
    "- Heterogeneous collection of data(Collection of different data elements)\n",
    "- Size can be changed(Size mutable)\n",
    "- Data can be changed(Data mutable)"
   ]
  },
  {
   "cell_type": "markdown",
   "id": "special-advantage",
   "metadata": {},
   "source": [
    "# DataFrame Creation\n",
    "\n",
    "- A basic dataframe can be created and it is called an empty Dataframe.\n",
    "- Pandas dataframe consists of 3 principal components namely the data, rows and columns.\n",
    "- Dataframe can be created from a list, dictionary and from a list of dictionary."
   ]
  },
  {
   "cell_type": "code",
   "execution_count": 14,
   "id": "neither-portsmouth",
   "metadata": {},
   "outputs": [
    {
     "name": "stdout",
     "output_type": "stream",
     "text": [
      "Empty DataFrame\n",
      "Columns: []\n",
      "Index: []\n"
     ]
    }
   ],
   "source": [
    "# import the pandas library and aliasing as pd\n",
    "import pandas as pd\n",
    "df = pd.DataFrame() # empty dataframe\n",
    "print(df)"
   ]
  },
  {
   "cell_type": "code",
   "execution_count": 15,
   "id": "thousand-lighter",
   "metadata": {},
   "outputs": [
    {
     "name": "stdout",
     "output_type": "stream",
     "text": [
      "         0\n",
      "0      sun\n",
      "1    earth\n",
      "2     mars\n",
      "3    venus\n",
      "4  jupiter\n",
      "5     moon\n",
      "6   saturn\n"
     ]
    }
   ],
   "source": [
    "lst = ['sun','earth','mars','venus','jupiter','moon','saturn']\n",
    "df = pd.DataFrame(lst)\n",
    "print(df)"
   ]
  },
  {
   "cell_type": "code",
   "execution_count": 16,
   "id": "unknown-warrant",
   "metadata": {},
   "outputs": [
    {
     "name": "stdout",
     "output_type": "stream",
     "text": [
      "    Name  Age\n",
      "0   Rose   10\n",
      "1    Bob   12\n",
      "2  Sunny   13\n"
     ]
    }
   ],
   "source": [
    "data = [['Rose',10],['Bob',12],['Sunny',13]]\n",
    "df = pd.DataFrame(data,columns=['Name','Age'])\n",
    "print(df)"
   ]
  },
  {
   "cell_type": "code",
   "execution_count": 17,
   "id": "promotional-declaration",
   "metadata": {},
   "outputs": [
    {
     "name": "stdout",
     "output_type": "stream",
     "text": [
      "    Name  Age\n",
      "0    Tom   28\n",
      "1    Sam   34\n",
      "2  Vicky   29\n",
      "3  Steve   42\n"
     ]
    }
   ],
   "source": [
    "data = {'Name':['Tom','Sam','Vicky','Steve'],'Age':[28,34,29,42]}\n",
    "df = pd.DataFrame(data)\n",
    "print(df)"
   ]
  }
 ],
 "metadata": {
  "kernelspec": {
   "display_name": "Python 3",
   "language": "python",
   "name": "python3"
  },
  "language_info": {
   "codemirror_mode": {
    "name": "ipython",
    "version": 3
   },
   "file_extension": ".py",
   "mimetype": "text/x-python",
   "name": "python",
   "nbconvert_exporter": "python",
   "pygments_lexer": "ipython3",
   "version": "3.7.6"
  }
 },
 "nbformat": 4,
 "nbformat_minor": 5
}
