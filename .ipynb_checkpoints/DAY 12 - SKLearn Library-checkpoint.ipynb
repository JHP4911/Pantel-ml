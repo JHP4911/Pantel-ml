{
 "cells": [
  {
   "cell_type": "markdown",
   "id": "improved-holly",
   "metadata": {},
   "source": [
    "# ScikitLearn - Introduction\n",
    "\n",
    "- It is the most useful and robust library for machine learning in python.\n",
    "- It contains powerful tools for machine learning and statistical modelling.\n",
    "- The statistical modelling includes classification, regression, clustering and dimensionality reduction through a consistent interface in python.\n",
    "- This library is written in python and built on top of Numpy, Scipy and Matplotlib.\n",
    "\n",
    "# ScikitLearn - Features\n",
    "\n",
    "- ScikitLearn library is used for modelling on data rather than focused on loading, manipulating and summarising data.\n",
    "- Following are the popular groups of models provided by sklearn.\n",
    "    1. Supervised Learning Algorithms - Machine learning algorithms like linear regression, Support Vector Machine(SVM) and Decision Tree are part of scikit-learn\n",
    "    2. Unsupervised Learning Algorithms - It has all unsupervised learning algoritms from clustering, factor analysis and PCA (Principal Component Analysis)\n",
    "    \n",
    "    \n",
    "- Clustering - This model is grouping unlabelled data.\n",
    "- Cross validation - It is used to check the accuracy of supervised models on unseen data.\n",
    "- Dimensionality Reduction - It is used to reduce the number of attributes in the data. It can be used for summarisation, visualisation and feature selection.\n",
    "- Ensemble Methods - It is used to combine the predictions of multiple supervised models.\n",
    "- Feature Extraction - It is used to extract the features from data to define the attributes in an image.\n",
    "- Feature selection - It is used to identify the useful attributes to create supervised models.\n",
    "- Open Source - It is a open source library and available under BSD license.\n",
    "\n",
    "# ScikitLearn - Modelling Process\n",
    "\n",
    "It deals with the modelling process involved in sklearn.\n",
    "1. Dataset Loading - Dataset is nothing but a collection of data.\n",
    "2. Features - Variables of data are called its features. They are known as predictor inputs or attributes.\n",
    "3. Feature matrix - A feature matrix is nothing but a collection of features.\n",
    "4. Feature names - It is a list of all the names of the features.\n",
    "\n",
    "#### Example"
   ]
  },
  {
   "cell_type": "code",
   "execution_count": 3,
   "id": "incorporate-spread",
   "metadata": {},
   "outputs": [
    {
     "name": "stdout",
     "output_type": "stream",
     "text": [
      "Feature names: ['sepal length (cm)', 'sepal width (cm)', 'petal length (cm)', 'petal width (cm)']\n",
      "Target names: ['setosa' 'versicolor' 'virginica']\n",
      "\n",
      "First 10 rows of x:\n",
      " [[5.1 3.5 1.4 0.2]\n",
      " [4.9 3.  1.4 0.2]\n",
      " [4.7 3.2 1.3 0.2]\n",
      " [4.6 3.1 1.5 0.2]\n",
      " [5.  3.6 1.4 0.2]\n",
      " [5.4 3.9 1.7 0.4]\n",
      " [4.6 3.4 1.4 0.3]\n",
      " [5.  3.4 1.5 0.2]\n",
      " [4.4 2.9 1.4 0.2]\n",
      " [4.9 3.1 1.5 0.1]]\n"
     ]
    }
   ],
   "source": [
    "from sklearn.datasets import load_iris\n",
    "iris = load_iris()\n",
    "x = iris.data\n",
    "y = iris.target\n",
    "feature_names = iris.feature_names\n",
    "target_names = iris.target_names\n",
    "print(\"Feature names:\", feature_names)\n",
    "print(\"Target names:\", target_names)\n",
    "print(\"\\nFirst 10 rows of x:\\n\",x[:10])"
   ]
  },
  {
   "cell_type": "code",
   "execution_count": 1,
   "id": "beginning-tennessee",
   "metadata": {},
   "outputs": [
    {
     "name": "stdout",
     "output_type": "stream",
     "text": [
      "(105, 4)\n",
      "(45, 4)\n",
      "(105,)\n",
      "(45,)\n"
     ]
    }
   ],
   "source": [
    "from sklearn.datasets import load_iris\n",
    "iris = load_iris()\n",
    "x = iris.data\n",
    "y = iris.target\n",
    "\n",
    "from sklearn.model_selection import train_test_split\n",
    "x_train, x_test, y_train, y_test = train_test_split(x, y, test_size = 0.3, random_state = 1)\n",
    "print(x_train.shape)\n",
    "print(x_test.shape)\n",
    "print(y_train.shape)\n",
    "print(y_test.shape)"
   ]
  }
 ],
 "metadata": {
  "kernelspec": {
   "display_name": "Python 3",
   "language": "python",
   "name": "python3"
  },
  "language_info": {
   "codemirror_mode": {
    "name": "ipython",
    "version": 3
   },
   "file_extension": ".py",
   "mimetype": "text/x-python",
   "name": "python",
   "nbconvert_exporter": "python",
   "pygments_lexer": "ipython3",
   "version": "3.7.6"
  }
 },
 "nbformat": 4,
 "nbformat_minor": 5
}
