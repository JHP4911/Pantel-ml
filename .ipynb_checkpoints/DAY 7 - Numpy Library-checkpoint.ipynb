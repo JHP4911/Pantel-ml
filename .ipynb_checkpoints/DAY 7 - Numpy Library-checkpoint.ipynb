{
 "cells": [
  {
   "cell_type": "markdown",
   "id": "utility-fault",
   "metadata": {},
   "source": [
    "# Numpy - Numerical Python\n",
    "\n",
    "- It stands for numerical python\n",
    "- It is a library which consists of multi-dimensional array objects and a group of routines for processing those arrays.\n",
    "- Numpy can be used to perform mathematical and logical operations on arrays.\n",
    "- Numpy is imported using the following syntax: import numpy as np"
   ]
  },
  {
   "cell_type": "markdown",
   "id": "established-period",
   "metadata": {},
   "source": [
    "# Numpy - Ndarray Object\n",
    "\n",
    "- Important array object defined in Numpy is an n-dimensional array type called ndarray.\n",
    "- It describes the group of items of the same type.\n",
    "- Each item in the collection can be accessed using the zero-based index.\n",
    "- Every item in the ndarray occupies the same amount of memory.\n",
    "- Each element in an ndarray is an object of data-type object(called dtype).\n",
    "\n",
    "### Examples"
   ]
  },
  {
   "cell_type": "code",
   "execution_count": 1,
   "id": "documentary-nursery",
   "metadata": {},
   "outputs": [
    {
     "name": "stdout",
     "output_type": "stream",
     "text": [
      "[1 2 3]\n"
     ]
    }
   ],
   "source": [
    "import numpy as np\n",
    "a = np.array([1,2,3])\n",
    "print(a)"
   ]
  },
  {
   "cell_type": "code",
   "execution_count": 2,
   "id": "reserved-green",
   "metadata": {},
   "outputs": [
    {
     "name": "stdout",
     "output_type": "stream",
     "text": [
      "[1.5 2.5 3.5 4.5]\n"
     ]
    }
   ],
   "source": [
    "a = np.array([1.5,2.5,3.5,4.5])\n",
    "print(a)"
   ]
  },
  {
   "cell_type": "code",
   "execution_count": 4,
   "id": "pointed-drinking",
   "metadata": {},
   "outputs": [
    {
     "name": "stdout",
     "output_type": "stream",
     "text": [
      "[[1 2]\n",
      " [3 4]]\n"
     ]
    }
   ],
   "source": [
    "# more than one dimension\n",
    "a = np.array([[1,2],[3,4]])\n",
    "print(a)"
   ]
  },
  {
   "cell_type": "code",
   "execution_count": 7,
   "id": "comic-flood",
   "metadata": {},
   "outputs": [
    {
     "name": "stdout",
     "output_type": "stream",
     "text": [
      "[1.+0.j 2.+0.j 3.+0.j]\n",
      "['1' '2' '3']\n"
     ]
    }
   ],
   "source": [
    "# dtype parameter\n",
    "a = np.array([1,2,3], dtype=complex)\n",
    "print(a)\n",
    "\n",
    "a = np.array([1,2,3], dtype=str)\n",
    "print(a)"
   ]
  },
  {
   "cell_type": "code",
   "execution_count": 8,
   "id": "composite-holder",
   "metadata": {},
   "outputs": [
    {
     "name": "stdout",
     "output_type": "stream",
     "text": [
      "int32\n"
     ]
    }
   ],
   "source": [
    "# using array-(scalar type\n",
    "dt = np.dtype(np.int32)\n",
    "print(dt)"
   ]
  },
  {
   "cell_type": "markdown",
   "id": "stylish-fetish",
   "metadata": {},
   "source": [
    "# Numpy - Array Attributes\n",
    "\n",
    "- ndarray.shape - It returns a tuple containing array dimensions. It is used to resize the array"
   ]
  },
  {
   "cell_type": "code",
   "execution_count": 9,
   "id": "peaceful-comfort",
   "metadata": {},
   "outputs": [
    {
     "name": "stdout",
     "output_type": "stream",
     "text": [
      "(2, 3)\n"
     ]
    }
   ],
   "source": [
    "import numpy as np\n",
    "a = np.array([[1,2,3],[4,5,6]])\n",
    "print(a.shape)"
   ]
  },
  {
   "cell_type": "code",
   "execution_count": null,
   "id": "original-dynamics",
   "metadata": {},
   "outputs": [],
   "source": []
  }
 ],
 "metadata": {
  "kernelspec": {
   "display_name": "Python 3",
   "language": "python",
   "name": "python3"
  },
  "language_info": {
   "codemirror_mode": {
    "name": "ipython",
    "version": 3
   },
   "file_extension": ".py",
   "mimetype": "text/x-python",
   "name": "python",
   "nbconvert_exporter": "python",
   "pygments_lexer": "ipython3",
   "version": "3.7.6"
  }
 },
 "nbformat": 4,
 "nbformat_minor": 5
}
