{
 "cells": [
  {
   "cell_type": "markdown",
   "id": "false-farming",
   "metadata": {},
   "source": [
    "# Numpy - Numerical Python\n",
    "\n",
    "- It stands for numerical python\n",
    "- It is a library which consists of multi-dimensional array objects and a group of routines for processing those arrays.\n",
    "- Numpy can be used to perform mathematical and logical operations on arrays.\n",
    "- Numpy is imported using the following syntax: import numpy as np"
   ]
  },
  {
   "cell_type": "markdown",
   "id": "interested-invalid",
   "metadata": {},
   "source": [
    "# Numpy - Ndarray Object\n",
    "\n",
    "- Important array object defined in Numpy is an n-dimensional array type called ndarray.\n",
    "- It describes the group of items of the same type.\n",
    "- Each item in the collection can be accessed using the zero-based index.\n",
    "- Every item in the ndarray occupies the same amount of memory.\n",
    "- Each element in an ndarray is an object of data-type object(called dtype).\n",
    "\n",
    "### Examples"
   ]
  },
  {
   "cell_type": "code",
   "execution_count": 1,
   "id": "local-progressive",
   "metadata": {},
   "outputs": [
    {
     "name": "stdout",
     "output_type": "stream",
     "text": [
      "[1 2 3]\n"
     ]
    }
   ],
   "source": [
    "import numpy as np\n",
    "a = np.array([1,2,3])\n",
    "print(a)"
   ]
  },
  {
   "cell_type": "code",
   "execution_count": 2,
   "id": "traditional-globe",
   "metadata": {},
   "outputs": [
    {
     "name": "stdout",
     "output_type": "stream",
     "text": [
      "[1.5 2.5 3.5 4.5]\n"
     ]
    }
   ],
   "source": [
    "a = np.array([1.5,2.5,3.5,4.5])\n",
    "print(a)"
   ]
  },
  {
   "cell_type": "code",
   "execution_count": 4,
   "id": "excited-necessity",
   "metadata": {},
   "outputs": [
    {
     "name": "stdout",
     "output_type": "stream",
     "text": [
      "[[1 2]\n",
      " [3 4]]\n"
     ]
    }
   ],
   "source": [
    "# more than one dimension\n",
    "a = np.array([[1,2],[3,4]])\n",
    "print(a)"
   ]
  },
  {
   "cell_type": "code",
   "execution_count": 7,
   "id": "moral-spain",
   "metadata": {},
   "outputs": [
    {
     "name": "stdout",
     "output_type": "stream",
     "text": [
      "[1.+0.j 2.+0.j 3.+0.j]\n",
      "['1' '2' '3']\n"
     ]
    }
   ],
   "source": [
    "# dtype parameter\n",
    "a = np.array([1,2,3], dtype=complex)\n",
    "print(a)\n",
    "\n",
    "a = np.array([1,2,3], dtype=str)\n",
    "print(a)"
   ]
  },
  {
   "cell_type": "code",
   "execution_count": 8,
   "id": "hairy-provincial",
   "metadata": {},
   "outputs": [
    {
     "name": "stdout",
     "output_type": "stream",
     "text": [
      "int32\n"
     ]
    }
   ],
   "source": [
    "# using array-(scalar type\n",
    "dt = np.dtype(np.int32)\n",
    "print(dt)"
   ]
  },
  {
   "cell_type": "markdown",
   "id": "meaning-windows",
   "metadata": {},
   "source": [
    "# Numpy - Array Attributes\n",
    "\n",
    "- ndarray.shape - It returns a tuple containing array dimensions. It is used to resize the array"
   ]
  },
  {
   "cell_type": "code",
   "execution_count": 9,
   "id": "sonic-planner",
   "metadata": {},
   "outputs": [
    {
     "name": "stdout",
     "output_type": "stream",
     "text": [
      "(2, 3)\n"
     ]
    }
   ],
   "source": [
    "import numpy as np\n",
    "a = np.array([[1,2,3],[4,5,6]])\n",
    "print(a.shape)"
   ]
  },
  {
   "cell_type": "markdown",
   "id": "legitimate-duplicate",
   "metadata": {},
   "source": [
    "###### \n",
    "- ndarray.reshape - reshapes a array"
   ]
  },
  {
   "cell_type": "code",
   "execution_count": 5,
   "id": "acceptable-attack",
   "metadata": {},
   "outputs": [
    {
     "name": "stdout",
     "output_type": "stream",
     "text": [
      "[[1 2]\n",
      " [3 4]\n",
      " [5 6]]\n",
      "[[1 2 3]\n",
      " [4 5 6]]\n"
     ]
    }
   ],
   "source": [
    "import numpy as np\n",
    "a = np.array([[1,2,3],[4,5,6]])\n",
    "a.shape = (3,2)\n",
    "print(a)\n",
    "\n",
    "b = a.reshape(2,3)\n",
    "print(b)"
   ]
  },
  {
   "cell_type": "markdown",
   "id": "compact-calgary",
   "metadata": {},
   "source": [
    "###### \n",
    "- ndarray.ndim - this array attribute returns the number of array dimensions"
   ]
  },
  {
   "cell_type": "code",
   "execution_count": 22,
   "id": "dynamic-packet",
   "metadata": {
    "scrolled": true
   },
   "outputs": [
    {
     "name": "stdout",
     "output_type": "stream",
     "text": [
      "2\n"
     ]
    }
   ],
   "source": [
    "import numpy as np\n",
    "a = np.array([[1,2,3],[4,5,6]])\n",
    "print(a.ndim)"
   ]
  },
  {
   "cell_type": "markdown",
   "id": "scheduled-spray",
   "metadata": {},
   "source": [
    "###### \n",
    "- ndarray.arange - creates a array of given range"
   ]
  },
  {
   "cell_type": "code",
   "execution_count": 6,
   "id": "informational-gamma",
   "metadata": {},
   "outputs": [
    {
     "name": "stdout",
     "output_type": "stream",
     "text": [
      "[ 0  1  2  3  4  5  6  7  8  9 10 11 12 13 14 15 16 17 18 19 20 21 22 23]\n"
     ]
    }
   ],
   "source": [
    "import numpy as np\n",
    "a = np.arange(24)\n",
    "print(a)"
   ]
  },
  {
   "cell_type": "code",
   "execution_count": 9,
   "id": "broad-peeing",
   "metadata": {
    "scrolled": false
   },
   "outputs": [
    {
     "name": "stdout",
     "output_type": "stream",
     "text": [
      "[[[ 0  1  2  3]\n",
      "  [ 4  5  6  7]\n",
      "  [ 8  9 10 11]]\n",
      "\n",
      " [[12 13 14 15]\n",
      "  [16 17 18 19]\n",
      "  [20 21 22 23]]]\n"
     ]
    }
   ],
   "source": [
    "b = a.reshape(2,3,4)\n",
    "print(b)"
   ]
  },
  {
   "cell_type": "markdown",
   "id": "protective-biography",
   "metadata": {},
   "source": [
    "###### \n",
    "- numpy.itemsize - this attribute returns the length of each element of array in bytes"
   ]
  },
  {
   "cell_type": "code",
   "execution_count": 12,
   "id": "soviet-diana",
   "metadata": {},
   "outputs": [
    {
     "name": "stdout",
     "output_type": "stream",
     "text": [
      "1\n"
     ]
    }
   ],
   "source": [
    "import numpy as np\n",
    "x = np.array([1,2,3,4,5], dtype=np.int8)\n",
    "print(x.itemsize)"
   ]
  },
  {
   "cell_type": "code",
   "execution_count": 10,
   "id": "injured-clerk",
   "metadata": {},
   "outputs": [
    {
     "name": "stdout",
     "output_type": "stream",
     "text": [
      "[1 2 3]\n"
     ]
    }
   ],
   "source": [
    "# convert list to ndarray\n",
    "import numpy as np\n",
    "x = [1,2,3]\n",
    "a = np.asarray(x)\n",
    "print(a)"
   ]
  },
  {
   "cell_type": "markdown",
   "id": "chicken-boundary",
   "metadata": {},
   "source": [
    "# Trignometric Functions\n",
    "\n",
    "- It has trignometric functions which return trignometric ratios for a given angle in radians.\n",
    "- arcsin, arccos, and arctan return the inverse trignometric values of sin, cos, and tan of given angle.\n",
    "- The result of these functions can be verified by numpy.degrees() function by converting radians to degrees.\n",
    "\n",
    "### Example"
   ]
  },
  {
   "cell_type": "code",
   "execution_count": 15,
   "id": "planned-blowing",
   "metadata": {},
   "outputs": [
    {
     "name": "stdout",
     "output_type": "stream",
     "text": [
      "Sine of different angles\n",
      "[0.         0.5        0.70710678 0.8660254  1.        ]\n",
      "\n",
      "Cosine values for angles in array\n",
      "[1.00000000e+00 8.66025404e-01 7.07106781e-01 5.00000000e-01\n",
      " 6.12323400e-17]\n",
      "\n",
      "Tangent values for given angles\n",
      "[0.00000000e+00 5.77350269e-01 1.00000000e+00 1.73205081e+00\n",
      " 1.63312394e+16]\n"
     ]
    }
   ],
   "source": [
    "import numpy as np\n",
    "a = np.array([0,30,45,60,90])\n",
    "print('Sine of different angles') \n",
    "print(np.sin(a*np.pi/180))\n",
    "print()\n",
    "print('Cosine values for angles in array')\n",
    "print(np.cos(a*np.pi/180))\n",
    "print()\n",
    "print('Tangent values for given angles')\n",
    "print(np.tan(a*np.pi/180))"
   ]
  },
  {
   "cell_type": "code",
   "execution_count": 21,
   "id": "identified-slovak",
   "metadata": {},
   "outputs": [
    {
     "name": "stdout",
     "output_type": "stream",
     "text": [
      "Array containing sine values\n",
      "[0.         0.5        0.70710678 0.8660254  1.        ]\n",
      "\n",
      "Compute sine inverse of angles. Returned values are in radians\n",
      "[0.         0.52359878 0.78539816 1.04719755 1.57079633]\n",
      "\n",
      "Check result by converting to degrees\n",
      "[ 0. 30. 45. 60. 90.]\n",
      "\n",
      "\n",
      "\n",
      "Array containing cosine values\n",
      "[1.00000000e+00 8.66025404e-01 7.07106781e-01 5.00000000e-01\n",
      " 6.12323400e-17]\n",
      "\n",
      "Inverse of cos\n",
      "[0.         0.52359878 0.78539816 1.04719755 1.57079633]\n",
      "\n",
      "Check result by converting to degrees\n",
      "[ 0. 30. 45. 60. 90.]\n",
      "\n",
      "\n",
      "\n",
      "Array containing tan values\n",
      "[0.00000000e+00 5.77350269e-01 1.00000000e+00 1.73205081e+00\n",
      " 1.63312394e+16]\n",
      "\n",
      "Inverse of tan\n",
      "[0.         0.52359878 0.78539816 1.04719755 1.57079633]\n",
      "\n",
      "Check result by converting to degrees\n",
      "[ 0. 30. 45. 60. 90.]\n"
     ]
    }
   ],
   "source": [
    "import numpy as np\n",
    "a = np.array([0,30,45,60,90])\n",
    "print('Array containing sine values') \n",
    "sin = np.sin(a*np.pi/180)\n",
    "print(sin)\n",
    "print()\n",
    "print('Compute sine inverse of angles. Returned values are in radians')\n",
    "inv = np.arcsin(sin)\n",
    "print(inv)\n",
    "print()\n",
    "print('Check result by converting to degrees')\n",
    "print(np.degrees(inv))\n",
    "print('\\n\\n')\n",
    "print('Array containing cosine values')\n",
    "cos = np.cos(a*np.pi/180)\n",
    "print(cos)\n",
    "print()\n",
    "print('Inverse of cos')\n",
    "inv = np.arccos(cos)\n",
    "print(inv)\n",
    "print()\n",
    "print('Check result by converting to degrees')\n",
    "print(np.degrees(inv))\n",
    "print('\\n\\n')\n",
    "print('Array containing tan values')\n",
    "tan = np.tan(a*np.pi/180)\n",
    "print(tan)\n",
    "print()\n",
    "print('Inverse of tan')\n",
    "inv = np.arctan(tan)\n",
    "print(inv)\n",
    "print()\n",
    "print('Check result by converting to degrees')\n",
    "print(np.degrees(inv))"
   ]
  }
 ],
 "metadata": {
  "kernelspec": {
   "display_name": "Python 3",
   "language": "python",
   "name": "python3"
  },
  "language_info": {
   "codemirror_mode": {
    "name": "ipython",
    "version": 3
   },
   "file_extension": ".py",
   "mimetype": "text/x-python",
   "name": "python",
   "nbconvert_exporter": "python",
   "pygments_lexer": "ipython3",
   "version": "3.7.6"
  }
 },
 "nbformat": 4,
 "nbformat_minor": 5
}
