{
 "cells": [
  {
   "cell_type": "markdown",
   "id": "vertical-syntax",
   "metadata": {},
   "source": [
    "# Introduction to Machine Learning\n",
    "\n",
    "What is Machine Learning?\n",
    "Machine learning is an application of artificial intelligence (AI) that provides systems the ability to automatically learn and improve from experience. Machine learning focuses on the development of computer programs that can access data and use it learn for themselves."
   ]
  },
  {
   "cell_type": "markdown",
   "id": "placed-change",
   "metadata": {},
   "source": [
    "# Important Machine Learning terms\n",
    "\n",
    "Terminology:\n",
    "- Dataset: A set of data examples, that contain features important to solving the problem.\n",
    "- Features: Important pieces of data that help us understand a problem. These are fed in to a machine learning algorithm to help it learn.\n",
    "- Model: The representation (internal model) of a phenomenon that a Machine Learning algorithm has learnt."
   ]
  },
  {
   "cell_type": "markdown",
   "id": "floral-eugene",
   "metadata": {},
   "source": [
    "# Introduction to Python\n",
    "\n",
    "Python is\n",
    "1. High-level programming language.\n",
    "2. Fast to learn and fast to develop application.\n",
    "3. Available for many platforms.\n",
    "4. Implement complex logic with very few lines of code."
   ]
  },
  {
   "cell_type": "markdown",
   "id": "organized-newspaper",
   "metadata": {},
   "source": [
    "# Why Python?\n",
    "\n",
    "1. Data Processing\n",
    "Powerful language for complex data processing.\n",
    "The Modular toolkit for Data processing (MDP) library developed in python is widely used for complex data processing algorithm.\n",
    "\n",
    "2. Signal Processing\n",
    "We can use python for signal processing and advance visualization technique.\n",
    "Python contribution in Neuroscience data analysis is a great example of this.\n",
    "\n",
    "3. Pygame\n",
    "We can use python for Game making.\n",
    "Pygame is one of the powerful python modules designed for writing games.\n"
   ]
  },
  {
   "cell_type": "markdown",
   "id": "amended-inspiration",
   "metadata": {},
   "source": [
    "# Python View\n",
    "\n",
    "m.py(Source code) ----------------> m.pyc(Byte code) ----------------> PVM (Python Virtual machine) Runtime"
   ]
  },
  {
   "cell_type": "markdown",
   "id": "configured-producer",
   "metadata": {},
   "source": [
    "# What is debugging?\n",
    "\n",
    "Types of errors occur while programming:\n",
    "- Syntax error\n",
    "- Runtime error\n",
    "- Semantic error"
   ]
  }
 ],
 "metadata": {
  "kernelspec": {
   "display_name": "Python 3",
   "language": "python",
   "name": "python3"
  },
  "language_info": {
   "codemirror_mode": {
    "name": "ipython",
    "version": 3
   },
   "file_extension": ".py",
   "mimetype": "text/x-python",
   "name": "python",
   "nbconvert_exporter": "python",
   "pygments_lexer": "ipython3",
   "version": "3.7.6"
  }
 },
 "nbformat": 4,
 "nbformat_minor": 5
}
