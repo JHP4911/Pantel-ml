{
 "cells": [
  {
   "cell_type": "markdown",
   "id": "breathing-prize",
   "metadata": {},
   "source": [
    "# Supervised Learning\n",
    "\n",
    "In supervised learning, you train the machine using data which is well \"labeled\". It means some data is already tagged with the correct answer. It can be compared to learning which takes place in the presence of a supervisor or a teacher."
   ]
  },
  {
   "cell_type": "markdown",
   "id": "boxed-summary",
   "metadata": {},
   "source": [
    "#### Working\n",
    "- known data and known responses are given to train the machine learning model.\n",
    "- when the new data is given as input to the model comparisons are made between the known data and input data and predictions are made.\n",
    "- lastly based on the predictions the new resonse(ouput) is generated."
   ]
  },
  {
   "cell_type": "markdown",
   "id": "robust-principal",
   "metadata": {},
   "source": [
    "# Types of Supervised Machine Learning Techniques\n",
    "\n",
    "1. Classification\n",
    "2. Regression"
   ]
  },
  {
   "cell_type": "markdown",
   "id": "growing-component",
   "metadata": {},
   "source": [
    "# Unsupervised Learning\n",
    "\n",
    "Unsupervised learning is a machine learning technique, where you do not need to supervise the model. Instead, you need to allow the model to work on its own to discover information. It mainly deals with the unlabelled data."
   ]
  },
  {
   "cell_type": "markdown",
   "id": "enclosed-miniature",
   "metadata": {},
   "source": [
    "#### Working\n",
    "\n",
    "In unsupervised learning, machine learning model finds the hidden pattern in an unlabeled data.\n",
    "- unlabeled data is given as input to the model\n",
    "- the model trains itself that is it clusters the given data into different groups based on some patterns\n",
    "- lastly it returns the groups of data "
   ]
  },
  {
   "cell_type": "markdown",
   "id": "median-singapore",
   "metadata": {},
   "source": [
    "# Types of Unsupervised Machine Learning Techniques\n",
    "\n",
    "1. Clustering\n",
    "2. Association"
   ]
  },
  {
   "cell_type": "markdown",
   "id": "welcome-technician",
   "metadata": {},
   "source": [
    "# Reinforcement Learning\n",
    "\n",
    "A Reinforcement Learning algorithm just aims to maximize its rewrds by playing the game over and over again. If you can frame a problem with a frequent 'score' as a reward, it is likely to be suited to Reinforcement learning."
   ]
  },
  {
   "cell_type": "markdown",
   "id": "mature-election",
   "metadata": {},
   "source": [
    "# Machine Learning Process\n",
    "\n",
    "1. Data Collection\n",
    "2. Data Preparation\n",
    "3. Model Fitting\n",
    "4. Model Evaluation\n",
    "5. Hyper parameter Tuning"
   ]
  },
  {
   "cell_type": "markdown",
   "id": "grand-transcription",
   "metadata": {},
   "source": [
    "# Python Libraries for Machine Learning\n",
    "\n",
    "- pandas\n",
    "- numpy\n",
    "- matplotlib\n",
    "- seaborn\n",
    "- sklearn"
   ]
  }
 ],
 "metadata": {
  "kernelspec": {
   "display_name": "Python 3",
   "language": "python",
   "name": "python3"
  },
  "language_info": {
   "codemirror_mode": {
    "name": "ipython",
    "version": 3
   },
   "file_extension": ".py",
   "mimetype": "text/x-python",
   "name": "python",
   "nbconvert_exporter": "python",
   "pygments_lexer": "ipython3",
   "version": "3.7.6"
  }
 },
 "nbformat": 4,
 "nbformat_minor": 5
}
