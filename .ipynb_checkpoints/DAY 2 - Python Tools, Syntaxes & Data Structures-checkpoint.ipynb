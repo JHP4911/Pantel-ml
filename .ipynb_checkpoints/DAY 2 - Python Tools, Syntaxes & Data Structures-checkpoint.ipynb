{
 "cells": [
  {
   "cell_type": "markdown",
   "id": "other-literature",
   "metadata": {},
   "source": [
    "# Application of Python\n",
    "\n",
    "1. Web and Internet Development\n",
    "2. Desktop GUI Applications\n",
    "3. Scientific and numeric\n",
    "4. Software development\n",
    "5. Education\n",
    "6. Business Applications\n",
    "7. Games and 3D graphics\n",
    "8. Network Programming\n",
    "9. Database Access"
   ]
  },
  {
   "cell_type": "markdown",
   "id": "nearby-couple",
   "metadata": {},
   "source": [
    "# Datatypes in Python\n",
    "\n",
    "### 1. Numeric types\n",
    "    - Integer(int): a = 10\n",
    "    - Float(float): b = 10.0\n",
    "    - Complex(complex): c = ij\n",
    "\n",
    "### 2. Text type\n",
    "    - String(str): d = \"hello\"\n",
    "\n",
    "### 3. Sequence types\n",
    "    - List(list): e = ['apple','orange','mango',1,2,3]\n",
    "    - Tuple(tuple): f = ('apple','orange','mango',1,2,3)\n",
    "    - Range(range): g = range(6)\n",
    "\n",
    "### 4. Mapping type\n",
    "    - Dictionary(dict): h = {\"name\" : \"John\", \"age\" : 36}\n",
    "\n",
    "### 5. Set types\n",
    "    - Set(set): i = {\"apple\", \"banana\", \"cherry\"}\n",
    "    - Frozenset(frozenset): j = frozenset({\"apple\", \"banana\", \"cherry\"})\n",
    "\n",
    "### 6. Boolean type\n",
    "    - Bool(bool): k = True\n",
    "\n",
    "### 7. Binary types\n",
    "    - bytes: l = b\"Hello\"\t\n",
    "    - bytearray: m = bytearray(5)\n",
    "    - memoryview: n = memoryview(bytes(5))"
   ]
  },
  {
   "cell_type": "code",
   "execution_count": 1,
   "id": "rubber-sauce",
   "metadata": {},
   "outputs": [
    {
     "name": "stdout",
     "output_type": "stream",
     "text": [
      " 10 \n",
      " 10.0 \n",
      " (1+3j) \n",
      " hello \n",
      " ['apple', 'orange', 'mango', 1, 2, 3] \n",
      " range(0, 6) \n",
      " {'name': 'John', 'age': 36} \n",
      " {'banana', 'cherry', 'apple'} \n",
      " frozenset({'banana', 'cherry', 'apple'}) \n",
      " True \n",
      " b'Hello' \n",
      " bytearray(b'\\x00\\x00\\x00\\x00\\x00') \n",
      " <memory at 0x0000022A3A1A67C8>\n"
     ]
    }
   ],
   "source": [
    "a = 10\n",
    "b = 10.0\n",
    "c = 1+3j\n",
    "d = \"hello\"\n",
    "e = ['apple','orange','mango',1,2,3]\n",
    "f = ('apple','orange','mango',1,2,3)\n",
    "g = range(6)\n",
    "h = {\"name\" : \"John\", \"age\" : 36}\n",
    "i = {\"apple\", \"banana\", \"cherry\"}\n",
    "j = frozenset({\"apple\", \"banana\", \"cherry\"})\n",
    "k = True\n",
    "l = b\"Hello\"\t\n",
    "m = bytearray(5)\n",
    "n = memoryview(bytes(5))\n",
    "\n",
    "print(\"\",a,\"\\n\",b,\"\\n\",c,\"\\n\",d,\"\\n\",e,\"\\n\",g,\"\\n\",h,\"\\n\",i,\"\\n\",j,\"\\n\",k,\"\\n\",l,\"\\n\",m,\"\\n\",n)"
   ]
  },
  {
   "cell_type": "markdown",
   "id": "enhanced-content",
   "metadata": {},
   "source": [
    "# Conversion Function\n",
    "\n",
    "- float()\n",
    "- int()\n",
    "- str()"
   ]
  },
  {
   "cell_type": "code",
   "execution_count": 2,
   "id": "equipped-portal",
   "metadata": {},
   "outputs": [
    {
     "data": {
      "text/plain": [
       "4"
      ]
     },
     "execution_count": 2,
     "metadata": {},
     "output_type": "execute_result"
    }
   ],
   "source": [
    "int(4.5)"
   ]
  },
  {
   "cell_type": "code",
   "execution_count": 3,
   "id": "dietary-tribe",
   "metadata": {},
   "outputs": [
    {
     "data": {
      "text/plain": [
       "6.0"
      ]
     },
     "execution_count": 3,
     "metadata": {},
     "output_type": "execute_result"
    }
   ],
   "source": [
    "float(6)"
   ]
  },
  {
   "cell_type": "code",
   "execution_count": 4,
   "id": "stock-ferry",
   "metadata": {},
   "outputs": [
    {
     "data": {
      "text/plain": [
       "'2.3'"
      ]
     },
     "execution_count": 4,
     "metadata": {},
     "output_type": "execute_result"
    }
   ],
   "source": [
    "str(2.3)"
   ]
  },
  {
   "cell_type": "markdown",
   "id": "proud-diving",
   "metadata": {},
   "source": [
    "# Arithmetic Operators\n",
    "\n",
    "1. Addition           +\n",
    "2. Subtraction        -\n",
    "3. Multiplication     *\n",
    "4. Division           /\n",
    "5. Modulus            %\n",
    "6. Floor Division     //\n",
    "7. Exponention        **"
   ]
  },
  {
   "cell_type": "markdown",
   "id": "european-prevention",
   "metadata": {},
   "source": [
    "# Python special variable _ (underscore)"
   ]
  },
  {
   "cell_type": "code",
   "execution_count": 5,
   "id": "challenging-isolation",
   "metadata": {},
   "outputs": [],
   "source": [
    "a = 5"
   ]
  },
  {
   "cell_type": "code",
   "execution_count": 6,
   "id": "monetary-firmware",
   "metadata": {},
   "outputs": [
    {
     "data": {
      "text/plain": [
       "5"
      ]
     },
     "execution_count": 6,
     "metadata": {},
     "output_type": "execute_result"
    }
   ],
   "source": [
    "a"
   ]
  },
  {
   "cell_type": "code",
   "execution_count": 7,
   "id": "wrapped-classroom",
   "metadata": {},
   "outputs": [
    {
     "data": {
      "text/plain": [
       "10"
      ]
     },
     "execution_count": 7,
     "metadata": {},
     "output_type": "execute_result"
    }
   ],
   "source": [
    "_+5"
   ]
  },
  {
   "cell_type": "markdown",
   "id": "vital-masters",
   "metadata": {},
   "source": [
    "# type() function"
   ]
  },
  {
   "cell_type": "code",
   "execution_count": 8,
   "id": "bronze-concrete",
   "metadata": {},
   "outputs": [
    {
     "data": {
      "text/plain": [
       "int"
      ]
     },
     "execution_count": 8,
     "metadata": {},
     "output_type": "execute_result"
    }
   ],
   "source": [
    "type(2)"
   ]
  },
  {
   "cell_type": "code",
   "execution_count": 9,
   "id": "acoustic-script",
   "metadata": {},
   "outputs": [
    {
     "data": {
      "text/plain": [
       "float"
      ]
     },
     "execution_count": 9,
     "metadata": {},
     "output_type": "execute_result"
    }
   ],
   "source": [
    "type(2.0)"
   ]
  },
  {
   "cell_type": "code",
   "execution_count": 10,
   "id": "disturbed-screw",
   "metadata": {},
   "outputs": [
    {
     "data": {
      "text/plain": [
       "str"
      ]
     },
     "execution_count": 10,
     "metadata": {},
     "output_type": "execute_result"
    }
   ],
   "source": [
    "type(\"hello\")"
   ]
  },
  {
   "cell_type": "code",
   "execution_count": 11,
   "id": "reflected-pakistan",
   "metadata": {},
   "outputs": [
    {
     "data": {
      "text/plain": [
       "memoryview"
      ]
     },
     "execution_count": 11,
     "metadata": {},
     "output_type": "execute_result"
    }
   ],
   "source": [
    "type(memoryview(bytes(5)))"
   ]
  },
  {
   "cell_type": "code",
   "execution_count": 12,
   "id": "closing-profession",
   "metadata": {},
   "outputs": [
    {
     "data": {
      "text/plain": [
       "bool"
      ]
     },
     "execution_count": 12,
     "metadata": {},
     "output_type": "execute_result"
    }
   ],
   "source": [
    "type(False)"
   ]
  },
  {
   "cell_type": "markdown",
   "id": "grateful-grocery",
   "metadata": {},
   "source": [
    "# Number Formatting\n",
    "\n",
    "- %d                   Integer\n",
    "- %F                   Floating point number\n",
    "- %s                   String\n",
    "- %c                   Character\n",
    "- %ld                  Long number"
   ]
  },
  {
   "cell_type": "code",
   "execution_count": 13,
   "id": "cultural-contrast",
   "metadata": {},
   "outputs": [
    {
     "name": "stdout",
     "output_type": "stream",
     "text": [
      "a = 10\n"
     ]
    }
   ],
   "source": [
    "a = 10\n",
    "print(\"a = %d\" % (a))"
   ]
  },
  {
   "cell_type": "code",
   "execution_count": 14,
   "id": "adverse-pendant",
   "metadata": {},
   "outputs": [
    {
     "name": "stdout",
     "output_type": "stream",
     "text": [
      "b = 20.500000\n"
     ]
    }
   ],
   "source": [
    "b = 20.5\n",
    "print(\"b = %F\" % (b))"
   ]
  },
  {
   "cell_type": "code",
   "execution_count": 15,
   "id": "atmospheric-trial",
   "metadata": {},
   "outputs": [
    {
     "name": "stdout",
     "output_type": "stream",
     "text": [
      "Welcome to python programming\n"
     ]
    }
   ],
   "source": [
    "c = \"python programming\"\n",
    "print(\"Welcome to %s\" %c)"
   ]
  },
  {
   "cell_type": "markdown",
   "id": "brazilian-philosophy",
   "metadata": {},
   "source": [
    "# Relational Operator\n",
    "\n",
    "1. Equal to                ==\n",
    "2. Not Equal to            !=\n",
    "3. Greater than            >\n",
    "4. Greater than equal to   >=\n",
    "5. Less than               <\n",
    "6. Less than equal to      <="
   ]
  },
  {
   "cell_type": "code",
   "execution_count": 16,
   "id": "bulgarian-indication",
   "metadata": {},
   "outputs": [
    {
     "data": {
      "text/plain": [
       "True"
      ]
     },
     "execution_count": 16,
     "metadata": {},
     "output_type": "execute_result"
    }
   ],
   "source": [
    "5 == 5"
   ]
  },
  {
   "cell_type": "code",
   "execution_count": 17,
   "id": "excellent-honolulu",
   "metadata": {},
   "outputs": [
    {
     "data": {
      "text/plain": [
       "False"
      ]
     },
     "execution_count": 17,
     "metadata": {},
     "output_type": "execute_result"
    }
   ],
   "source": [
    "5 > 6"
   ]
  },
  {
   "cell_type": "code",
   "execution_count": 18,
   "id": "protecting-mortality",
   "metadata": {},
   "outputs": [
    {
     "data": {
      "text/plain": [
       "True"
      ]
     },
     "execution_count": 18,
     "metadata": {},
     "output_type": "execute_result"
    }
   ],
   "source": [
    "\"A\" != \"B\""
   ]
  },
  {
   "cell_type": "markdown",
   "id": "interim-voltage",
   "metadata": {},
   "source": [
    "# Logical Operators\n",
    "\n",
    "- and - used to check when both the condition are true\n",
    "- or - used to check when either of the condition is true\n",
    "- not - negate"
   ]
  },
  {
   "cell_type": "code",
   "execution_count": 19,
   "id": "spanish-sponsorship",
   "metadata": {},
   "outputs": [
    {
     "data": {
      "text/plain": [
       "True"
      ]
     },
     "execution_count": 19,
     "metadata": {},
     "output_type": "execute_result"
    }
   ],
   "source": [
    "\"hello\" == \"hello\" or 3 > 9"
   ]
  },
  {
   "cell_type": "code",
   "execution_count": 20,
   "id": "external-approval",
   "metadata": {},
   "outputs": [
    {
     "data": {
      "text/plain": [
       "False"
      ]
     },
     "execution_count": 20,
     "metadata": {},
     "output_type": "execute_result"
    }
   ],
   "source": [
    "\"hello\" == \"hello\" and 3 > 9"
   ]
  },
  {
   "cell_type": "code",
   "execution_count": 21,
   "id": "incredible-coast",
   "metadata": {},
   "outputs": [
    {
     "data": {
      "text/plain": [
       "False"
      ]
     },
     "execution_count": 21,
     "metadata": {},
     "output_type": "execute_result"
    }
   ],
   "source": [
    "not 10 == 10"
   ]
  },
  {
   "cell_type": "markdown",
   "id": "thirty-relationship",
   "metadata": {},
   "source": [
    "# Swap without variables"
   ]
  },
  {
   "cell_type": "code",
   "execution_count": 22,
   "id": "intensive-bulgaria",
   "metadata": {},
   "outputs": [
    {
     "name": "stdout",
     "output_type": "stream",
     "text": [
      "After swapping: x = 5, y = 10\n"
     ]
    }
   ],
   "source": [
    "x = 10\n",
    "y = 5\n",
    "\n",
    "# code to swap 'x' and 'y'\n",
    "x = x + y    # x now becomes 15\n",
    "y = x - y    # y becomes 10\n",
    "x = x - y    # x becomes 5\n",
    "print(\"After swapping: x = %d, y = %d\" % (x,y))"
   ]
  },
  {
   "cell_type": "markdown",
   "id": "fancy-stuart",
   "metadata": {},
   "source": [
    "# Rules for naming the variable\n",
    "### 1. Variable name should start with letter(a-zA-Z) or underscore (_).\n",
    "- Valid : age , _age , Age\n",
    "- Invalid : 1age\n",
    "\n",
    "### 2. In variable name, no special characters allowed other than underscore (_).\n",
    "- Valid : age_ , _age\n",
    "- Invalid : age_*\n",
    "\n",
    "### 3. Variables are case sensitive.\n",
    "- age and Age are different, since variable names are case sensitive.\n",
    "\n",
    "### 4. Variable name can have numbers but not at the beginning.\n",
    "- Example: Age1\n",
    "\n",
    "### 5. Variable name should not be a Python keyword.Keywords are also called as reserved words.\n",
    "- Example: pass, break, continue.. etc are reserved for special meaning in Python. So, we should not declare keyword as a variable name."
   ]
  },
  {
   "cell_type": "code",
   "execution_count": 23,
   "id": "seasonal-adolescent",
   "metadata": {},
   "outputs": [
    {
     "ename": "SyntaxError",
     "evalue": "invalid syntax (<ipython-input-23-a06575c3eff5>, line 1)",
     "output_type": "error",
     "traceback": [
      "\u001b[1;36m  File \u001b[1;32m\"<ipython-input-23-a06575c3eff5>\"\u001b[1;36m, line \u001b[1;32m1\u001b[0m\n\u001b[1;33m    123abc = \"hello\" #this is invalid variable name\u001b[0m\n\u001b[1;37m         ^\u001b[0m\n\u001b[1;31mSyntaxError\u001b[0m\u001b[1;31m:\u001b[0m invalid syntax\n"
     ]
    }
   ],
   "source": [
    "123abc = \"hello\" #this is invalid variable name"
   ]
  },
  {
   "cell_type": "code",
   "execution_count": 24,
   "id": "prerequisite-morris",
   "metadata": {},
   "outputs": [
    {
     "ename": "SyntaxError",
     "evalue": "invalid syntax (<ipython-input-24-99dd102af622>, line 1)",
     "output_type": "error",
     "traceback": [
      "\u001b[1;36m  File \u001b[1;32m\"<ipython-input-24-99dd102af622>\"\u001b[1;36m, line \u001b[1;32m1\u001b[0m\n\u001b[1;33m    $abc = \"python\" #this is invalid variable name\u001b[0m\n\u001b[1;37m    ^\u001b[0m\n\u001b[1;31mSyntaxError\u001b[0m\u001b[1;31m:\u001b[0m invalid syntax\n"
     ]
    }
   ],
   "source": [
    "$abc = \"python\" #this is invalid variable name"
   ]
  },
  {
   "cell_type": "code",
   "execution_count": 25,
   "id": "sweet-produce",
   "metadata": {},
   "outputs": [],
   "source": [
    "_a = \"program\" #this is valid variable name\n",
    "abc = \"hello world\" #this is valid variable name"
   ]
  },
  {
   "cell_type": "code",
   "execution_count": 26,
   "id": "controlled-trade",
   "metadata": {},
   "outputs": [
    {
     "ename": "SyntaxError",
     "evalue": "invalid syntax (<ipython-input-26-7f501bbf00d2>, line 1)",
     "output_type": "error",
     "traceback": [
      "\u001b[1;36m  File \u001b[1;32m\"<ipython-input-26-7f501bbf00d2>\"\u001b[1;36m, line \u001b[1;32m1\u001b[0m\n\u001b[1;33m    is = \"hello\" #this is invalid variable name\u001b[0m\n\u001b[1;37m     ^\u001b[0m\n\u001b[1;31mSyntaxError\u001b[0m\u001b[1;31m:\u001b[0m invalid syntax\n"
     ]
    }
   ],
   "source": [
    "is = \"hello\" #this is invalid variable name"
   ]
  },
  {
   "cell_type": "code",
   "execution_count": 27,
   "id": "sufficient-domestic",
   "metadata": {},
   "outputs": [
    {
     "ename": "SyntaxError",
     "evalue": "invalid syntax (<ipython-input-27-26a14b0e2b84>, line 1)",
     "output_type": "error",
     "traceback": [
      "\u001b[1;36m  File \u001b[1;32m\"<ipython-input-27-26a14b0e2b84>\"\u001b[1;36m, line \u001b[1;32m1\u001b[0m\n\u001b[1;33m    class = \"vast\" #this is invalid variable name\u001b[0m\n\u001b[1;37m          ^\u001b[0m\n\u001b[1;31mSyntaxError\u001b[0m\u001b[1;31m:\u001b[0m invalid syntax\n"
     ]
    }
   ],
   "source": [
    "class = \"vast\" #this is invalid variable name"
   ]
  },
  {
   "cell_type": "markdown",
   "id": "handy-kingston",
   "metadata": {},
   "source": [
    "# Python String\n",
    "\n",
    "can be expressed in single quote or double quote or triple quotes"
   ]
  },
  {
   "cell_type": "code",
   "execution_count": 28,
   "id": "premier-approval",
   "metadata": {},
   "outputs": [],
   "source": [
    "a = 'python'"
   ]
  },
  {
   "cell_type": "code",
   "execution_count": 29,
   "id": "reverse-appliance",
   "metadata": {},
   "outputs": [],
   "source": [
    "b = \"python\""
   ]
  },
  {
   "cell_type": "code",
   "execution_count": 30,
   "id": "piano-ordering",
   "metadata": {},
   "outputs": [
    {
     "name": "stdout",
     "output_type": "stream",
     "text": [
      "\n",
      "This is line one\n",
      "This is line two\n",
      "This is line three\n",
      "\n"
     ]
    }
   ],
   "source": [
    "c = \"\"\"\n",
    "This is line one\n",
    "This is line two\n",
    "This is line three\n",
    "\"\"\"\n",
    "print(c)"
   ]
  },
  {
   "cell_type": "markdown",
   "id": "interesting-karen",
   "metadata": {},
   "source": [
    "# Operations on strings"
   ]
  },
  {
   "cell_type": "code",
   "execution_count": 31,
   "id": "noble-kenya",
   "metadata": {},
   "outputs": [
    {
     "data": {
      "text/plain": [
       "'Hello world!'"
      ]
     },
     "execution_count": 31,
     "metadata": {},
     "output_type": "execute_result"
    }
   ],
   "source": [
    "'Hello' + ' ' + 'world!'"
   ]
  },
  {
   "cell_type": "code",
   "execution_count": 32,
   "id": "comic-miniature",
   "metadata": {},
   "outputs": [
    {
     "data": {
      "text/plain": [
       "'Hello Hello Hello Hello '"
      ]
     },
     "execution_count": 32,
     "metadata": {},
     "output_type": "execute_result"
    }
   ],
   "source": [
    "('Hello' + ' ') * 4"
   ]
  },
  {
   "cell_type": "markdown",
   "id": "sought-leisure",
   "metadata": {},
   "source": [
    "# Escape Sequences\n",
    "\n",
    "- \\n - New line character\n",
    "- \\t - Horizontal tab"
   ]
  },
  {
   "cell_type": "code",
   "execution_count": 33,
   "id": "authorized-cleaners",
   "metadata": {},
   "outputs": [
    {
     "name": "stdout",
     "output_type": "stream",
     "text": [
      "Name\tRollno\tMarks\n",
      "Sam\t20\t25\n",
      "Joy\t21\t20\n"
     ]
    }
   ],
   "source": [
    "table = \"Name\\tRollno\\tMarks\\nSam\\t20\\t25\\nJoy\\t21\\t20\"\n",
    "print(table)"
   ]
  }
 ],
 "metadata": {
  "kernelspec": {
   "display_name": "Python 3",
   "language": "python",
   "name": "python3"
  },
  "language_info": {
   "codemirror_mode": {
    "name": "ipython",
    "version": 3
   },
   "file_extension": ".py",
   "mimetype": "text/x-python",
   "name": "python",
   "nbconvert_exporter": "python",
   "pygments_lexer": "ipython3",
   "version": "3.7.6"
  }
 },
 "nbformat": 4,
 "nbformat_minor": 5
}
