{
 "cells": [
  {
   "cell_type": "markdown",
   "id": "integrated-connecticut",
   "metadata": {},
   "source": [
    "# Google Colab\n",
    "\n",
    "- Google is doing a lot of research in artificial intelligence.\n",
    "- Google developed AI framework called tensorflow and development tool called google colab.\n",
    "- Colab supports GPU and it is totally free.\n",
    "- The use of colab has eased the learning and machine learning applications.\n",
    "- If you have jupyter notebook, it is easier to use colab.\n",
    "- Colab is free jupyter notebook environment that runs in the cloud.\n",
    "\n",
    "# What Colab can do?\n",
    "\n",
    "- A programmer can do the following using google colab.\n",
    "    - It does not require any setup. The notebooks you create can be simultaneously edited by the team members.\n",
    "    - Write and execute code in python.\n",
    "    - Records the code that supports mathematical equations.\n",
    "    - Create/Update/Share notebooks\n",
    "    - Import/Save notebooks from/to google drive.\n",
    "    - Import/Publish notebooks from github.\n",
    "    - Import external datasets eg. from kaggle.\n",
    "    - Combine with pytorch, tensorflow, keras and opencv.\n",
    "    - Free cloud service with free GPU.\n",
    "    \n",
    "# First Colab Notebook\n",
    "\n",
    "- In this, we will create and execute our first notebook.\n",
    "- Colab implicitly uses google drive to store the notebooks and we have to make sure that we are logged into googledrive account before proceeding further.\n",
    "\n",
    "###### Steps\n",
    "- Open the following URL in your web browser: https://colab.research.google.com\n",
    "- A dialog box will be displayed\n",
    "- Click on new python 3 notebook link at the bottom of the screen\n",
    "- A new notebook will open up\n",
    "- The notebook interface is similar to what we observed in jupyter notebook\n",
    "- There is a code window in which we can enter the python code\n",
    "\n",
    "# Setting notebook name\n",
    "\n",
    "- By default, the notebook uses the naming convention untitledxx.ipynb\n",
    "- To rename this notebook, click on this notebook name and type in the desired name in the edit box\n",
    "- Type in the name in the edit box and press enter\n",
    "- The notebook will acquire the name we have given\n",
    "\n",
    "# Entering Code\n",
    "\n",
    "- Type a simple python code and then press enter\n",
    "- Enter the two python statements in the code window"
   ]
  },
  {
   "cell_type": "code",
   "execution_count": 6,
   "id": "antique-antigua",
   "metadata": {},
   "outputs": [
    {
     "name": "stdout",
     "output_type": "stream",
     "text": [
      "Sun Nov 28 19:53:08 2021\n"
     ]
    }
   ],
   "source": [
    "import time\n",
    "print(time.ctime())"
   ]
  },
  {
   "cell_type": "markdown",
   "id": "selected-father",
   "metadata": {},
   "source": [
    "# Executing code\n",
    "\n",
    "- To execute the code, click on the arrow on the left side of the code window\n",
    "- After some time, we will see the output under the code window\n",
    "- We can clear the output anytime by clicking the icon on the left side of the output display\n",
    "\n",
    "# Adding more code cells\n",
    "\n",
    "- To add more code to our notebook, select the following menu options\n",
    "- Insert code cell\n",
    "- Move the mouse at the bottom center of the code cell\n",
    "- When the code and the text button appear, click on the code to add a new cell\n",
    "- A new code cell will be added underneath the current cell\n",
    "- Add the two statements in the currently created code window<br>\n",
    "    time.sleep(5)<br>\n",
    "    print(time.ctime())"
   ]
  },
  {
   "cell_type": "code",
   "execution_count": 7,
   "id": "superior-scanning",
   "metadata": {},
   "outputs": [
    {
     "name": "stdout",
     "output_type": "stream",
     "text": [
      "Sun Nov 28 20:02:08 2021\n"
     ]
    }
   ],
   "source": [
    "time.sleep(5)\n",
    "print(time.ctime())"
   ]
  },
  {
   "cell_type": "markdown",
   "id": "dirty-retention",
   "metadata": {},
   "source": [
    "# Changing Cell Order\n",
    "\n",
    "- When a notebook contains a large number of cells, we may come across situations where we want to change the order of execution of the cells\n",
    "- We may do that by selecting the cell we want to move and clicking the up cell and down cell buttons\n",
    "- We may click the buttons multiple times to move the cells for more than a single position\n",
    "\n",
    "# Deleting a Cell\n",
    "\n",
    "- During the project development, we may have introduced a few unwanted cells in our notebook\n",
    "- We can remove such cells from our project quickly with a single click\n",
    "- Click on the vertical dotted icon on the top right hand corner of the code cell\n",
    "- Click on the delete cell option and the current cell will be deleted.\n",
    "\n",
    "# Saving to Github\n",
    "\n",
    "- We may also save our work to github repository\n",
    "- Save the work in github repository by following the menu options\n",
    "- File/Save a copy in Github\n",
    "- We need to wait until we see the login screen to github\n",
    "- Now, we have to enter the credentials\n",
    "- If you don't have a repository, create a new one and save the project\n",
    "\n",
    "# Google Colab - Sharing Notebook\n",
    "\n",
    "- To share the notebook we have created with our codevelopers, we have to share the copy that we made in the google drive\n",
    "- To share the notebook to public audience, we may share it from Github Repository\n",
    "- One more way to share our link is to click the share icon on the top right hand corner of the notebook"
   ]
  },
  {
   "cell_type": "markdown",
   "id": "peaceful-stereo",
   "metadata": {},
   "source": [
    "# Getting Remote Data\n",
    "\n",
    "- Take one example that loads the dataset from the remote server.\n",
    "- Type in the following command in the code cell<br>\n",
    "    !wget http://mlr.cs.umass.edu/ml/machine-learning-databases/adult/adult.data -P \"/content/drive/My Drive/app\"\n",
    "\n",
    "# Cloning Git Repository\n",
    "\n",
    "- We can clone the entire git repository into colab using git command.\n",
    "- To clone the keras tutorial, type the following command in the code cell<br>\n",
    "    !git clone https://github.com/wxs/keras-mnist-tutorial.git"
   ]
  },
  {
   "cell_type": "markdown",
   "id": "annual-carrier",
   "metadata": {},
   "source": [
    "# System Aliases\n",
    "\n",
    "- To create a list of shortcuts for the following operations, type the following command.\n",
    "- To execute a list of operations for the following shortcuts, execute the following command: !ls/bin\n",
    "\n",
    "# Executing external python files\n",
    "\n",
    "- If we have some python code already developed stored in our google drive\n",
    "- Now, we have to load this code in colab for further modifications\n",
    "- In this, we will see how to load and run code stored in google drive\n",
    "\n",
    "### Tools/Command palette\n",
    "#### Mounting Drive\n",
    "- Tools/Command Palette\n",
    "- Type a few letters like m in the search box to locate the mount command\n",
    "- Select mount drive command from the list\n",
    "- The following code will be inserted into the code cell<br>\n",
    "    from google.colab import drive<br>\n",
    "    drive.mount('/content/drive')\n",
    "- Once you run this code, you will be asked to enter the authentication details\n",
    "- Open the above URL in your browser\n",
    "- You will be asked to login to your google account\n",
    "- If you grant permission, you will get the code\n",
    "- After a while, the drive will be mounted\n",
    "- Now, we can use the contents of the drive in colab\n",
    "\n",
    "# Running Python Code\n",
    "\n",
    "- For eg. we have to run a file called hello.py stored in our google drive\n",
    "- Type the following command in the code cell<br>\n",
    "    !python3 \"/content/drive/My Drive/Colab Notebooks/hello.py\"\n",
    "- The contents of hello.py are given<br>\n",
    "    print(\"Welcome to India\")\n",
    "- Now, we will see the following output<br>\n",
    "    Welcome to India\n",
    "- Besides text outputs, Colab also supports graphical outputs\n",
    "\n",
    "# Google Colab - Graphical Outputs\n",
    "\n",
    "- Colab also supports rich outputs such as charts\n",
    "\n",
    "###### Example"
   ]
  },
  {
   "cell_type": "code",
   "execution_count": 1,
   "id": "periodic-wisconsin",
   "metadata": {},
   "outputs": [
    {
     "data": {
      "image/png": "[encoded data removed]",
      "text/plain": [
       "<Figure size 432x288 with 1 Axes>"
      ]
     },
     "metadata": {
      "needs_background": "light"
     },
     "output_type": "display_data"
    }
   ],
   "source": [
    "import numpy as np\n",
    "from matplotlib import pyplot as plt\n",
    "y = np.random.randn(100)\n",
    "x = [x for x in range(len(y))]\n",
    "plt.plot(x, y, '-')\n",
    "plt.fill_between(x, y, 200, where=(y>195), facecolor='g', alpha=0.6)\n",
    "plt.title(\"Sample Plot\")\n",
    "plt.show()"
   ]
  },
  {
   "cell_type": "markdown",
   "id": "cubic-architect",
   "metadata": {},
   "source": [
    "# Google Colab - Magics\n",
    "\n",
    "- It is a set of commands that provide minimum extensive command language\n",
    "- There are 2 types of magics\n",
    "    1. Line Magics\n",
    "    2. Cell Magics\n",
    "    \n",
    "    \n",
    "- Line Magics: It consists of a single line of command. In case of line magics, it is prepended with a single % character\n",
    "\n",
    "- Cell Magics: Cell magic covers the entire body of the code cell. In case of cell magics, it is prepended with two %% characters\n",
    "\n",
    "### Google Colab - Line Magics\n",
    "\n",
    "- Type the following code in your code cell: %ldir\n",
    "- You will get the contents of the local directory something like this<br>\n",
    "    drwxr-xr-x 1 root 4096 Nov 18 14:36 sample_data/\n",
    "- Try the following command: %history\n",
    "- This represents the complete history of commands that we have previously executed"
   ]
  },
  {
   "cell_type": "code",
   "execution_count": 8,
   "id": "gorgeous-eclipse",
   "metadata": {},
   "outputs": [
    {
     "name": "stdout",
     "output_type": "stream",
     "text": [
      " Volume in drive C is Windows\n",
      " Volume Serial Number is 5A98-DA59\n",
      "\n",
      " Directory of C:\\Users\\Aditi Patil\\Desktop\\Courses\\30 Days Machine Learning Master Class\n",
      "\n",
      "28-11-2021  20:42    <DIR>          .\n",
      "15-11-2021  19:07    <DIR>          ..\n",
      "27-11-2021  19:58    <DIR>          .git\n",
      "28-11-2021  19:40    <DIR>          .ipynb_checkpoints\n",
      "               0 File(s)              0 bytes\n",
      "               4 Dir(s)  115,050,606,592 bytes free\n"
     ]
    }
   ],
   "source": [
    "%ldir"
   ]
  },
  {
   "cell_type": "code",
   "execution_count": 9,
   "id": "italic-battle",
   "metadata": {},
   "outputs": [
    {
     "name": "stdout",
     "output_type": "stream",
     "text": [
      "import numpy as np\n",
      "from matplotlib import pyplot as plt\n",
      "y = np.random.randn(100)\n",
      "x = [x for x in range(len(y))]\n",
      "plt.plot(x, y, '-')\n",
      "plt.fill_between(x, y, 200, where=(y>195), facecolor='g', alpha=0.6)\n",
      "plt.title(\"Sample Plot\")\n",
      "plt.show()\n",
      "%history\n",
      "%ldir\n",
      "%%html\n",
      "<marquee style=\"width:50%;color:green\">Welcome to India</marquee>\n",
      "import time\n",
      "print(tie.ctime())\n",
      "import time\n",
      "print(time.ctime())\n",
      "time.sleep(5)\n",
      "print(time.ctime())\n",
      "%ldir\n",
      "%history\n"
     ]
    }
   ],
   "source": [
    "%history"
   ]
  },
  {
   "cell_type": "markdown",
   "id": "sitting-cooler",
   "metadata": {},
   "source": [
    "### Google Colab - Cell Magics\n",
    "\n",
    "- Type the following code in your code cell\n",
    "- Now, if we run<br>\n",
    "    %%html\n",
    "    <marquee style='width:50%, color:green;'>Welcome to India</marquee>\n",
    "- This code, we will be getting the following message\n",
    "- Now if we run the code, we will run the scrolling welcome message on the screen"
   ]
  },
  {
   "cell_type": "code",
   "execution_count": 10,
   "id": "sized-jason",
   "metadata": {},
   "outputs": [
    {
     "data": {
      "text/html": [
       "<marquee style=\"width:50%;color:green\">Welcome to India</marquee>\n"
      ],
      "text/plain": [
       "<IPython.core.display.HTML object>"
      ]
     },
     "metadata": {},
     "output_type": "display_data"
    }
   ],
   "source": [
    "%%html\n",
    "<marquee style=\"width:50%;color:green\">Welcome to India</marquee>"
   ]
  },
  {
   "cell_type": "code",
   "execution_count": null,
   "id": "military-merchandise",
   "metadata": {},
   "outputs": [],
   "source": [
    "# the following code will add SVG to your document\n",
    "%%html\n",
    "<svg xmlns=\"https://www.w3.org/2000/svg\" viewBox=\"0 0 600 400\" width=\"400\" height=\"400\">\n",
    "<rect x=\"10\" y=\"00\" width=\"300\" height=\"100\" rx=\"0\" style=\"fill:orange;stroke:black;fill-opacity:1.0\" />\n",
    "<rect x=\"10\" y=\"100\" width=\"300\" height=\"100\" rx=\"0\" style=\"fill:white;stroke:black;fill-opacity:1.0\" />\n",
    "<rect x=\"10\" y=\"200\" width=\"300\" height=\"100\" rx=\"0\" style=\"fill:green;stroke:black;fill-opacity:1.0\" />\n",
    "</svg>"
   ]
  },
  {
   "cell_type": "markdown",
   "id": "wanted-arabic",
   "metadata": {},
   "source": [
    "### Magics List\n",
    "\n",
    "- To get a complete list of supported magics, type the following command: %lsmagic"
   ]
  },
  {
   "cell_type": "code",
   "execution_count": 13,
   "id": "derived-cedar",
   "metadata": {},
   "outputs": [
    {
     "data": {
      "application/json": {
       "cell": {
        "!": "OSMagics",
        "HTML": "Other",
        "SVG": "Other",
        "bash": "Other",
        "capture": "ExecutionMagics",
        "cmd": "Other",
        "debug": "ExecutionMagics",
        "file": "Other",
        "html": "DisplayMagics",
        "javascript": "DisplayMagics",
        "js": "DisplayMagics",
        "latex": "DisplayMagics",
        "markdown": "DisplayMagics",
        "perl": "Other",
        "prun": "ExecutionMagics",
        "pypy": "Other",
        "python": "Other",
        "python2": "Other",
        "python3": "Other",
        "ruby": "Other",
        "script": "ScriptMagics",
        "sh": "Other",
        "svg": "DisplayMagics",
        "sx": "OSMagics",
        "system": "OSMagics",
        "time": "ExecutionMagics",
        "timeit": "ExecutionMagics",
        "writefile": "OSMagics"
       },
       "line": {
        "alias": "OSMagics",
        "alias_magic": "BasicMagics",
        "autoawait": "AsyncMagics",
        "autocall": "AutoMagics",
        "automagic": "AutoMagics",
        "autosave": "KernelMagics",
        "bookmark": "OSMagics",
        "cd": "OSMagics",
        "clear": "KernelMagics",
        "cls": "KernelMagics",
        "colors": "BasicMagics",
        "conda": "PackagingMagics",
        "config": "ConfigMagics",
        "connect_info": "KernelMagics",
        "copy": "Other",
        "ddir": "Other",
        "debug": "ExecutionMagics",
        "dhist": "OSMagics",
        "dirs": "OSMagics",
        "doctest_mode": "BasicMagics",
        "echo": "Other",
        "ed": "Other",
        "edit": "KernelMagics",
        "env": "OSMagics",
        "gui": "BasicMagics",
        "hist": "Other",
        "history": "HistoryMagics",
        "killbgscripts": "ScriptMagics",
        "ldir": "Other",
        "less": "KernelMagics",
        "load": "CodeMagics",
        "load_ext": "ExtensionMagics",
        "loadpy": "CodeMagics",
        "logoff": "LoggingMagics",
        "logon": "LoggingMagics",
        "logstart": "LoggingMagics",
        "logstate": "LoggingMagics",
        "logstop": "LoggingMagics",
        "ls": "Other",
        "lsmagic": "BasicMagics",
        "macro": "ExecutionMagics",
        "magic": "BasicMagics",
        "matplotlib": "PylabMagics",
        "mkdir": "Other",
        "more": "KernelMagics",
        "notebook": "BasicMagics",
        "page": "BasicMagics",
        "pastebin": "CodeMagics",
        "pdb": "ExecutionMagics",
        "pdef": "NamespaceMagics",
        "pdoc": "NamespaceMagics",
        "pfile": "NamespaceMagics",
        "pinfo": "NamespaceMagics",
        "pinfo2": "NamespaceMagics",
        "pip": "PackagingMagics",
        "popd": "OSMagics",
        "pprint": "BasicMagics",
        "precision": "BasicMagics",
        "prun": "ExecutionMagics",
        "psearch": "NamespaceMagics",
        "psource": "NamespaceMagics",
        "pushd": "OSMagics",
        "pwd": "OSMagics",
        "pycat": "OSMagics",
        "pylab": "PylabMagics",
        "qtconsole": "KernelMagics",
        "quickref": "BasicMagics",
        "recall": "HistoryMagics",
        "rehashx": "OSMagics",
        "reload_ext": "ExtensionMagics",
        "ren": "Other",
        "rep": "Other",
        "rerun": "HistoryMagics",
        "reset": "NamespaceMagics",
        "reset_selective": "NamespaceMagics",
        "rmdir": "Other",
        "run": "ExecutionMagics",
        "save": "CodeMagics",
        "sc": "OSMagics",
        "set_env": "OSMagics",
        "store": "StoreMagics",
        "sx": "OSMagics",
        "system": "OSMagics",
        "tb": "ExecutionMagics",
        "time": "ExecutionMagics",
        "timeit": "ExecutionMagics",
        "unalias": "OSMagics",
        "unload_ext": "ExtensionMagics",
        "who": "NamespaceMagics",
        "who_ls": "NamespaceMagics",
        "whos": "NamespaceMagics",
        "xdel": "NamespaceMagics",
        "xmode": "BasicMagics"
       }
      },
      "text/plain": [
       "Available line magics:\n",
       "%alias  %alias_magic  %autoawait  %autocall  %automagic  %autosave  %bookmark  %cd  %clear  %cls  %colors  %conda  %config  %connect_info  %copy  %ddir  %debug  %dhist  %dirs  %doctest_mode  %echo  %ed  %edit  %env  %gui  %hist  %history  %killbgscripts  %ldir  %less  %load  %load_ext  %loadpy  %logoff  %logon  %logstart  %logstate  %logstop  %ls  %lsmagic  %macro  %magic  %matplotlib  %mkdir  %more  %notebook  %page  %pastebin  %pdb  %pdef  %pdoc  %pfile  %pinfo  %pinfo2  %pip  %popd  %pprint  %precision  %prun  %psearch  %psource  %pushd  %pwd  %pycat  %pylab  %qtconsole  %quickref  %recall  %rehashx  %reload_ext  %ren  %rep  %rerun  %reset  %reset_selective  %rmdir  %run  %save  %sc  %set_env  %store  %sx  %system  %tb  %time  %timeit  %unalias  %unload_ext  %who  %who_ls  %whos  %xdel  %xmode\n",
       "\n",
       "Available cell magics:\n",
       "%%!  %%HTML  %%SVG  %%bash  %%capture  %%cmd  %%debug  %%file  %%html  %%javascript  %%js  %%latex  %%markdown  %%perl  %%prun  %%pypy  %%python  %%python2  %%python3  %%ruby  %%script  %%sh  %%svg  %%sx  %%system  %%time  %%timeit  %%writefile\n",
       "\n",
       "Automagic is ON, % prefix IS NOT needed for line magics."
      ]
     },
     "execution_count": 13,
     "metadata": {},
     "output_type": "execute_result"
    }
   ],
   "source": [
    "%lsmagic"
   ]
  },
  {
   "cell_type": "markdown",
   "id": "silent-awareness",
   "metadata": {},
   "source": [
    "# Google Colab - Adding Forms\n",
    "\n",
    "- Colab provides a useful utility called forms that accepts inputs from the user at runtime\n",
    "- For adding forms, we can add a form to the code cell to accept the sleep time\n",
    "- Open a new notebook. Click on the options from the vertically-dotted menu\n",
    "- A popup menu appears on the screen\n",
    "- Select, add a form option\n",
    "- It will add a form to your code cell with the default title\n",
    "- To change the title of the form, click on the settings button(pencil-icon on the right)\n",
    "\n",
    "# Google Colab - Adding Form Fields\n",
    "\n",
    "- To add a form field, click the options menu in the code cell\n",
    "- Click on the form to reveal the submenus\n",
    "- Select add a form field menu option. A dialog box appears\n",
    "- Leave the form field type to input\n",
    "- Change the variable name to sleeptime and set the variable type of integer\n",
    "- Save the changes by clicking the save button"
   ]
  }
 ],
 "metadata": {
  "kernelspec": {
   "display_name": "Python 3",
   "language": "python",
   "name": "python3"
  },
  "language_info": {
   "codemirror_mode": {
    "name": "ipython",
    "version": 3
   },
   "file_extension": ".py",
   "mimetype": "text/x-python",
   "name": "python",
   "nbconvert_exporter": "python",
   "pygments_lexer": "ipython3",
   "version": "3.7.6"
  }
 },
 "nbformat": 4,
 "nbformat_minor": 5
}
