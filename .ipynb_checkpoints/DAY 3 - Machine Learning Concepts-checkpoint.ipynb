{
 "cells": [
  {
   "cell_type": "markdown",
   "id": "small-tuning",
   "metadata": {},
   "source": [
    "# Find the length of a String"
   ]
  },
  {
   "cell_type": "code",
   "execution_count": 1,
   "id": "matched-collapse",
   "metadata": {},
   "outputs": [
    {
     "data": {
      "text/plain": [
       "6"
      ]
     },
     "execution_count": 1,
     "metadata": {},
     "output_type": "execute_result"
    }
   ],
   "source": [
    "len(\"abcdef\")"
   ]
  },
  {
   "cell_type": "markdown",
   "id": "olympic-laugh",
   "metadata": {},
   "source": [
    "# Find the position of one string inside another"
   ]
  },
  {
   "cell_type": "code",
   "execution_count": 2,
   "id": "inner-sailing",
   "metadata": {},
   "outputs": [
    {
     "data": {
      "text/plain": [
       "3"
      ]
     },
     "execution_count": 2,
     "metadata": {},
     "output_type": "execute_result"
    }
   ],
   "source": [
    "s = \"abcdefghi\"\n",
    "s.find(\"def\")"
   ]
  },
  {
   "cell_type": "markdown",
   "id": "adjusted-pioneer",
   "metadata": {},
   "source": [
    "# Extracting part of a string"
   ]
  },
  {
   "cell_type": "code",
   "execution_count": 3,
   "id": "fitting-distributor",
   "metadata": {},
   "outputs": [
    {
     "data": {
      "text/plain": [
       "'bcde'"
      ]
     },
     "execution_count": 3,
     "metadata": {},
     "output_type": "execute_result"
    }
   ],
   "source": [
    "s[1:5]"
   ]
  },
  {
   "cell_type": "code",
   "execution_count": 4,
   "id": "chief-needle",
   "metadata": {},
   "outputs": [
    {
     "data": {
      "text/plain": [
       "'abcde'"
      ]
     },
     "execution_count": 4,
     "metadata": {},
     "output_type": "execute_result"
    }
   ],
   "source": [
    "s[:5]"
   ]
  },
  {
   "cell_type": "code",
   "execution_count": 5,
   "id": "clinical-trauma",
   "metadata": {},
   "outputs": [
    {
     "data": {
      "text/plain": [
       "'defghi'"
      ]
     },
     "execution_count": 5,
     "metadata": {},
     "output_type": "execute_result"
    }
   ],
   "source": [
    "s[3:]"
   ]
  },
  {
   "cell_type": "code",
   "execution_count": 7,
   "id": "preliminary-climate",
   "metadata": {},
   "outputs": [
    {
     "data": {
      "text/plain": [
       "'ihgfedcba'"
      ]
     },
     "execution_count": 7,
     "metadata": {},
     "output_type": "execute_result"
    }
   ],
   "source": [
    "s[::-1]"
   ]
  },
  {
   "cell_type": "markdown",
   "id": "organic-reasoning",
   "metadata": {},
   "source": [
    "# Replacing a string"
   ]
  },
  {
   "cell_type": "code",
   "execution_count": 8,
   "id": "structural-interface",
   "metadata": {},
   "outputs": [
    {
     "data": {
      "text/plain": [
       "'work work work until you succeed'"
      ]
     },
     "execution_count": 8,
     "metadata": {},
     "output_type": "execute_result"
    }
   ],
   "source": [
    "s = \"wait wait wait until you succeed\"\n",
    "s.replace(\"wait\",\"work\")"
   ]
  },
  {
   "cell_type": "markdown",
   "id": "civic-episode",
   "metadata": {},
   "source": [
    "# Uppercase and Lowercase"
   ]
  },
  {
   "cell_type": "code",
   "execution_count": 9,
   "id": "domestic-fortune",
   "metadata": {},
   "outputs": [
    {
     "data": {
      "text/plain": [
       "'ABCDEFG'"
      ]
     },
     "execution_count": 9,
     "metadata": {},
     "output_type": "execute_result"
    }
   ],
   "source": [
    "\"aBcDeFg\".upper()"
   ]
  },
  {
   "cell_type": "code",
   "execution_count": 10,
   "id": "patent-former",
   "metadata": {},
   "outputs": [
    {
     "data": {
      "text/plain": [
       "'abcdefg'"
      ]
     },
     "execution_count": 10,
     "metadata": {},
     "output_type": "execute_result"
    }
   ],
   "source": [
    "\"aBcDeFg\".lower()"
   ]
  },
  {
   "cell_type": "markdown",
   "id": "binding-carter",
   "metadata": {},
   "source": [
    "# If else statement"
   ]
  },
  {
   "cell_type": "code",
   "execution_count": 11,
   "id": "former-violation",
   "metadata": {},
   "outputs": [
    {
     "name": "stdout",
     "output_type": "stream",
     "text": [
      "x is greater than one\n"
     ]
    }
   ],
   "source": [
    "x = 10\n",
    "if (x > 1):\n",
    "    print(\"x is greater than one\")\n",
    "else:\n",
    "    print(\"x is less than one\")"
   ]
  },
  {
   "cell_type": "markdown",
   "id": "informal-gathering",
   "metadata": {},
   "source": [
    "# If elif else statement"
   ]
  },
  {
   "cell_type": "code",
   "execution_count": 12,
   "id": "objective-payment",
   "metadata": {},
   "outputs": [
    {
     "name": "stdout",
     "output_type": "stream",
     "text": [
      "x is medium\n"
     ]
    }
   ],
   "source": [
    "x = 90\n",
    "if (x > 100):\n",
    "    print(\"x is big\")\n",
    "elif (x < 10):\n",
    "    print(\"x is small\")\n",
    "else:\n",
    "    print(\"x is medium\")"
   ]
  },
  {
   "cell_type": "markdown",
   "id": "coordinate-major",
   "metadata": {},
   "source": [
    "# Introduction to Machine Learning\n",
    "\n",
    "### Terminology:\n",
    "\n",
    "- Dataset: A set of data examples, that contain features important to solving the problem.\n",
    "- Features: Important pieces of data that help us understand a problem. These are fed in to a machine learning algorithm to help it learn.\n",
    "- Model: The representation (internal model) of a phenomenon that a Machine Learning algorithm has learnt."
   ]
  },
  {
   "cell_type": "markdown",
   "id": "neural-assault",
   "metadata": {},
   "source": [
    "# Real life application of Machine Learning\n",
    "\n",
    "Netflix - Movie Recommendations\n",
    "\n",
    "Facebook - Friends Suggestions, Tagging friends faces\n",
    "\n",
    "Paypal - Fraud Detection\n",
    "\n",
    "Uber - Suggests drop, pickup locations automatically.\n",
    "Uber share finds customers travelling in similar routes.\n",
    "Allocates the bookings based on time, distance, price and ratings\n",
    "\n",
    "Amazon, Fifa Gaming"
   ]
  },
  {
   "cell_type": "markdown",
   "id": "random-examination",
   "metadata": {},
   "source": [
    "# Types of Machine Learning\n",
    "\n",
    "### Supervised Learning\n",
    "In supervised learning the goal is to learn the mapping(the rules) between a set of inputs and outputs.\n",
    "\n",
    "### Unsupervised Learning\n",
    "In unsupervised learning, only input data is provided in the examples. There are no labelled example outputs to aim for.\n",
    "\n",
    "### Reinforcement Learning\n",
    "It has generated incredible results. it doesn't use labels as such, and instead uses rewards to learn."
   ]
  }
 ],
 "metadata": {
  "kernelspec": {
   "display_name": "Python 3",
   "language": "python",
   "name": "python3"
  },
  "language_info": {
   "codemirror_mode": {
    "name": "ipython",
    "version": 3
   },
   "file_extension": ".py",
   "mimetype": "text/x-python",
   "name": "python",
   "nbconvert_exporter": "python",
   "pygments_lexer": "ipython3",
   "version": "3.7.6"
  }
 },
 "nbformat": 4,
 "nbformat_minor": 5
}
