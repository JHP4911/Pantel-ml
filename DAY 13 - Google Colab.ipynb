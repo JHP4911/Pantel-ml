{
 "cells": [
  {
   "cell_type": "markdown",
   "id": "integrated-connecticut",
   "metadata": {},
   "source": [
    "# Google Colab\n",
    "\n",
    "- Google is doing a lot of research in artificial intelligence.\n",
    "- Google developed AI framework called tensorflow and development tool called google colab.\n",
    "- Colab supports GPU and it is totally free.\n",
    "- The use of colab has eased the learning and machine learning applications.\n",
    "- If you have jupyter notebook, it is easier to use colab.\n",
    "- Colab is free jupyter notebook environment that runs in the cloud.\n",
    "\n",
    "# What Colab can do?\n",
    "\n",
    "- A programmer can do the following using google colab.\n",
    "    - It does not require any setup. The notebooks you create can be simultaneously edited by the team members.\n",
    "    - Write and execute code in python.\n",
    "    - Records the code that supports mathematical equations.\n",
    "    - Create/Update/Share notebooks\n",
    "    - Import/Save notebooks from/to google drive.\n",
    "    - Import/Publish notebooks from github.\n",
    "    - Import external datasets eg. from kaggle.\n",
    "    - Combine with pytorch, tensorflow, keras and opencv.\n",
    "    - Free cloud service with free GPU."
   ]
  },
  {
   "cell_type": "markdown",
   "id": "peaceful-stereo",
   "metadata": {},
   "source": [
    "# Getting Remote Data\n",
    "\n",
    "- Take one example that loads the dataset from the remote server.\n",
    "- Type in the following command in the code cell<br>\n",
    "    !wget http://mlr.cs.umass.edu/ml/machine-learning-databases/adult/adult.data -P \"/content/drive/My Drive/app\"\n",
    "\n",
    "# Cloning Git Repository\n",
    "\n",
    "- We can clone the entire git repository into colab using git command.\n",
    "- To clone the keras tutorial, type the following command in the code cell<br>\n",
    "    !git clone https://github.com/wxs/keras-mnist-tutorial.git"
   ]
  }
 ],
 "metadata": {
  "kernelspec": {
   "display_name": "Python 3",
   "language": "python",
   "name": "python3"
  },
  "language_info": {
   "codemirror_mode": {
    "name": "ipython",
    "version": 3
   },
   "file_extension": ".py",
   "mimetype": "text/x-python",
   "name": "python",
   "nbconvert_exporter": "python",
   "pygments_lexer": "ipython3",
   "version": "3.7.6"
  }
 },
 "nbformat": 4,
 "nbformat_minor": 5
}
