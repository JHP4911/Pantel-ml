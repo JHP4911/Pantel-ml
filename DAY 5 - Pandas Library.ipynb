{
 "cells": [
  {
   "cell_type": "markdown",
   "id": "motivated-calculator",
   "metadata": {},
   "source": [
    "# Python - Pandas\n",
    "\n",
    "- Pandas is an open source python library.\n",
    "- It provides highly efficient data structures and data analysis tools for python programming language.\n",
    "- Python with pandas is used in a variety of domains like academics, finance, economics, statistics\n",
    "- It deals with the following three data structures\n",
    "    1. Series\n",
    "    2. Data frame\n",
    "    3. Panel\n",
    "- These data structures are built on top of numpy array, thus making them fast and efficient."
   ]
  },
  {
   "cell_type": "markdown",
   "id": "devoted-finder",
   "metadata": {},
   "source": [
    "# Dimension and Description\n",
    "\n",
    "- Higher dimensional data structure is a container of lower dimensional data structure.\n",
    "- Data frame is a container of series and panel is a container of data frame\n",
    "- Series is a one-dimensional collection of similar elements. Series is nothing but a collection of integers.\n",
    "- Points to Consider\n",
    "    1. Collection of similar elements.\n",
    "    2. Size cannot be changed(i.e, it is immutable)\n",
    "    3. Values of the data can be changed(i.e, it is mutable)"
   ]
  },
  {
   "cell_type": "markdown",
   "id": "dedicated-dividend",
   "metadata": {},
   "source": [
    "### Examples "
   ]
  },
  {
   "cell_type": "code",
   "execution_count": 1,
   "id": "further-montreal",
   "metadata": {},
   "outputs": [
    {
     "name": "stdout",
     "output_type": "stream",
     "text": [
      "Series([], dtype: float64)\n"
     ]
    },
    {
     "name": "stderr",
     "output_type": "stream",
     "text": [
      "C:\\Users\\Aditi Patil\\anaconda3\\lib\\site-packages\\ipykernel_launcher.py:3: DeprecationWarning: The default dtype for empty Series will be 'object' instead of 'float64' in a future version. Specify a dtype explicitly to silence this warning.\n",
      "  This is separate from the ipykernel package so we can avoid doing imports until\n"
     ]
    }
   ],
   "source": [
    "# import the pandas library and aliasing as pd\n",
    "import pandas as pd\n",
    "s = pd.Series()\n",
    "print(s)"
   ]
  },
  {
   "cell_type": "code",
   "execution_count": 2,
   "id": "harmful-initial",
   "metadata": {},
   "outputs": [
    {
     "name": "stdout",
     "output_type": "stream",
     "text": [
      "0    a\n",
      "1    b\n",
      "2    c\n",
      "3    d\n",
      "dtype: object\n"
     ]
    }
   ],
   "source": [
    "# import the pandas library and aliasing as pd\n",
    "import pandas as pd\n",
    "import numpy as np\n",
    "data = np.array(['a','b','c','d'])\n",
    "s = pd.Series(data)\n",
    "print(s)"
   ]
  },
  {
   "cell_type": "code",
   "execution_count": 3,
   "id": "featured-permit",
   "metadata": {},
   "outputs": [
    {
     "name": "stdout",
     "output_type": "stream",
     "text": [
      "10    a\n",
      "11    b\n",
      "12    c\n",
      "13    d\n",
      "dtype: object\n"
     ]
    }
   ],
   "source": [
    "# import the pandas library and aliasing as pd\n",
    "import pandas as pd\n",
    "import numpy as np\n",
    "data = np.array(['a','b','c','d'])\n",
    "s = pd.Series(data, index=[10,11,12,13])\n",
    "print(s)"
   ]
  },
  {
   "cell_type": "markdown",
   "id": "recorded-forty",
   "metadata": {},
   "source": [
    "# Create a series from dictionary\n",
    "\n",
    "- A dictionary can be passed as an input.\n",
    "- If no index is specified, then dictionary keys are taken in a sorted order to create an index.\n",
    "- If index is passed, then values in the data corresponding to the labels in the index will be pulled out.\n",
    "\n",
    "### Examples"
   ]
  },
  {
   "cell_type": "code",
   "execution_count": 10,
   "id": "lyric-sucking",
   "metadata": {},
   "outputs": [
    {
     "name": "stdout",
     "output_type": "stream",
     "text": [
      "a    0.0\n",
      "b    1.0\n",
      "c    2.0\n",
      "d    3.0\n",
      "dtype: float64\n",
      "c    2.0\n",
      "a    0.0\n",
      "d    3.0\n",
      "b    1.0\n",
      "dtype: float64\n"
     ]
    }
   ],
   "source": [
    "# import the pandas library and aliasing as pd\n",
    "import pandas as pd\n",
    "import numpy as np\n",
    "data = {'a':0.,'b':1.,'c':2,'d':3.}\n",
    "s = pd.Series(data)\n",
    "print(s)\n",
    "\n",
    "s1 = pd.Series(data, index=['c','a','d','b'])\n",
    "print(s1)"
   ]
  }
 ],
 "metadata": {
  "kernelspec": {
   "display_name": "Python 3",
   "language": "python",
   "name": "python3"
  },
  "language_info": {
   "codemirror_mode": {
    "name": "ipython",
    "version": 3
   },
   "file_extension": ".py",
   "mimetype": "text/x-python",
   "name": "python",
   "nbconvert_exporter": "python",
   "pygments_lexer": "ipython3",
   "version": "3.7.6"
  }
 },
 "nbformat": 4,
 "nbformat_minor": 5
}
